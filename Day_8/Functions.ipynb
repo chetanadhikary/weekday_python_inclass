{
 "cells": [
  {
   "cell_type": "markdown",
   "metadata": {},
   "source": [
    "\n",
    "# Functions without Arguments/return statement"
   ]
  },
  {
   "cell_type": "code",
   "execution_count": null,
   "metadata": {},
   "outputs": [],
   "source": [
    "def checkEven():\n",
    "    for i in range(10):\n",
    "        if i%2 == 0:\n",
    "            print(f'{i} is an even number')\n",
    "        else:\n",
    "            print(f'{i} is an odd number')"
   ]
  },
  {
   "cell_type": "code",
   "execution_count": null,
   "metadata": {},
   "outputs": [],
   "source": [
    "checkEven()"
   ]
  },
  {
   "cell_type": "markdown",
   "metadata": {},
   "source": [
    "# Function with Arguments"
   ]
  },
  {
   "cell_type": "code",
   "execution_count": null,
   "metadata": {},
   "outputs": [],
   "source": [
    "def checkEvenArg(n):\n",
    "    for i in range(n):\n",
    "        if i%2 == 0:\n",
    "            print(f'{i} is an even number')\n",
    "        else:\n",
    "            print(f'{i} is an odd number')"
   ]
  },
  {
   "cell_type": "code",
   "execution_count": null,
   "metadata": {},
   "outputs": [],
   "source": [
    "checkEvenArg(6)"
   ]
  },
  {
   "cell_type": "code",
   "execution_count": null,
   "metadata": {},
   "outputs": [],
   "source": [
    "def checkEvenlst(num):\n",
    "    num[5] = 6\n",
    "    for i in num:\n",
    "        if i%2 == 0:\n",
    "            print(f'{i} is an even number')"
   ]
  },
  {
   "cell_type": "code",
   "execution_count": null,
   "metadata": {},
   "outputs": [],
   "source": [
    "lst_num = [1,2,3,4,5,10]\n",
    "checkEvenlst(lst_num)\n",
    "print(lst_num)"
   ]
  },
  {
   "cell_type": "code",
   "execution_count": null,
   "metadata": {},
   "outputs": [],
   "source": [
    "lst_num = [1,2,3,4,5,10]\n",
    "lst_num_arg = lst_num[:]\n",
    "checkEvenlst(lst_num_arg)\n",
    "print(lst_num)"
   ]
  },
  {
   "cell_type": "code",
   "execution_count": null,
   "metadata": {},
   "outputs": [],
   "source": [
    "tup_num = tuple(lst_num)\n",
    "checkEvenlst(tup_num)"
   ]
  },
  {
   "cell_type": "markdown",
   "metadata": {},
   "source": [
    "# Function with Argument and return statement"
   ]
  },
  {
   "cell_type": "code",
   "execution_count": null,
   "metadata": {},
   "outputs": [],
   "source": [
    "def checkEvenArgRet(num):\n",
    "    lst_even = []\n",
    "    lst_odd = []\n",
    "    for i in num:\n",
    "        if i%2 == 0:\n",
    "            lst_even.append(i)\n",
    "        else:\n",
    "             lst_odd.append(i)\n",
    "    return lst_even,lst_odd"
   ]
  },
  {
   "cell_type": "code",
   "execution_count": null,
   "metadata": {},
   "outputs": [],
   "source": [
    "checkEvenArgRet(list(range(1,20)))"
   ]
  },
  {
   "cell_type": "code",
   "execution_count": null,
   "metadata": {},
   "outputs": [],
   "source": [
    "type(checkEvenArgRet(list(range(1,20))))"
   ]
  },
  {
   "cell_type": "code",
   "execution_count": null,
   "metadata": {},
   "outputs": [],
   "source": [
    "even, odd = checkEvenArgRet(list(range(1,20)))"
   ]
  },
  {
   "cell_type": "code",
   "execution_count": null,
   "metadata": {},
   "outputs": [],
   "source": [
    "even"
   ]
  },
  {
   "cell_type": "code",
   "execution_count": null,
   "metadata": {},
   "outputs": [],
   "source": [
    "odd"
   ]
  },
  {
   "cell_type": "code",
   "execution_count": null,
   "metadata": {},
   "outputs": [],
   "source": [
    "result = checkEvenArgRet(list(range(1,20)))"
   ]
  },
  {
   "cell_type": "code",
   "execution_count": null,
   "metadata": {},
   "outputs": [],
   "source": [
    "result"
   ]
  },
  {
   "cell_type": "markdown",
   "metadata": {},
   "source": [
    "# Assignment"
   ]
  },
  {
   "cell_type": "markdown",
   "metadata": {},
   "source": [
    "<html>\n",
    "  Write a program to create a database of students.\n",
    "    <ul> \n",
    "        <li>There are attributes to each of the student in database </li>\n",
    "        <li> <ul> Attributes\n",
    "            <li> Name </li>\n",
    "            <li> Student ID</li>\n",
    "            <li> Branch,</li>\n",
    "            <li> Hobbies</li> \n",
    "            </ul></li>\n",
    "    </ul>\n",
    "  <ul> Functions \n",
    "     <li> Gather data </li>\n",
    "      <li> Search Function , to search on the name/student ID of the student</li>\n",
    "      <li> Display function </li>\n",
    "    </ul>"
   ]
  },
  {
   "cell_type": "code",
   "execution_count": null,
   "metadata": {},
   "outputs": [],
   "source": []
  }
 ],
 "metadata": {
  "kernelspec": {
   "display_name": "Python 3",
   "language": "python",
   "name": "python3"
  },
  "language_info": {
   "codemirror_mode": {
    "name": "ipython",
    "version": 3
   },
   "file_extension": ".py",
   "mimetype": "text/x-python",
   "name": "python",
   "nbconvert_exporter": "python",
   "pygments_lexer": "ipython3",
   "version": "3.7.7"
  },
  "toc": {
   "base_numbering": 1,
   "nav_menu": {},
   "number_sections": true,
   "sideBar": true,
   "skip_h1_title": false,
   "title_cell": "Table of Contents",
   "title_sidebar": "Contents",
   "toc_cell": false,
   "toc_position": {},
   "toc_section_display": true,
   "toc_window_display": false
  }
 },
 "nbformat": 4,
 "nbformat_minor": 4
}
