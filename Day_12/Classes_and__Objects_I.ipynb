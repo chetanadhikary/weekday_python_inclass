{
 "cells": [
  {
   "cell_type": "markdown",
   "metadata": {},
   "source": [
    "College"
   ]
  },
  {
   "cell_type": "markdown",
   "metadata": {},
   "source": [
    "* Students\n",
    "* Faculty\n",
    "* Curricullum\n"
   ]
  },
  {
   "cell_type": "markdown",
   "metadata": {},
   "source": [
    "Student Idea\n",
    "* Credentials\n",
    "* Classroom\n",
    "* Qualification"
   ]
  },
  {
   "cell_type": "markdown",
   "metadata": {},
   "source": [
    "Faculty Idea\n",
    "* Qualification\n",
    "* Specialisation"
   ]
  },
  {
   "cell_type": "markdown",
   "metadata": {},
   "source": [
    "Curriculum Idea\n",
    "* Each Class/semester\n",
    "* Student List\n",
    "* faculty List"
   ]
  },
  {
   "cell_type": "markdown",
   "metadata": {},
   "source": [
    "OOPs\n",
    "* Inheritance\n",
    "* Abstraction\n",
    "* Encapsulation\n",
    "* Polymorphism"
   ]
  },
  {
   "cell_type": "markdown",
   "metadata": {},
   "source": [
    "Car"
   ]
  },
  {
   "cell_type": "code",
   "execution_count": null,
   "metadata": {},
   "outputs": [],
   "source": []
  },
  {
   "cell_type": "code",
   "execution_count": null,
   "metadata": {},
   "outputs": [],
   "source": [
    "student1 = ('Harry','Potter','ECE','65','78','60','87')\n",
    "student2 = ('James','Potter','CSE','65','87','60','96')"
   ]
  },
  {
   "cell_type": "code",
   "execution_count": null,
   "metadata": {},
   "outputs": [],
   "source": [
    "\n",
    "def agg(student):\n",
    "    count = 0\n",
    "    for mark in student[-1:-5:-1]:\n",
    "        count += int(mark)    \n",
    "    return count/4"
   ]
  },
  {
   "cell_type": "code",
   "execution_count": null,
   "metadata": {},
   "outputs": [],
   "source": [
    "agg(student2),agg(student1)"
   ]
  },
  {
   "cell_type": "code",
   "execution_count": null,
   "metadata": {},
   "outputs": [],
   "source": [
    "student2.agg"
   ]
  },
  {
   "cell_type": "code",
   "execution_count": null,
   "metadata": {},
   "outputs": [],
   "source": []
  },
  {
   "cell_type": "code",
   "execution_count": null,
   "metadata": {},
   "outputs": [],
   "source": []
  },
  {
   "cell_type": "code",
   "execution_count": null,
   "metadata": {},
   "outputs": [],
   "source": []
  },
  {
   "cell_type": "code",
   "execution_count": null,
   "metadata": {},
   "outputs": [],
   "source": [
    "class Student:\n",
    "    \n",
    "    def stu_input(self,name,*marks):\n",
    "        self.candidate = {'Name':None,'Marks': list()}\n",
    "        self.candidate['Name'] = name\n",
    "        for mark in marks:\n",
    "            self.candidate['Marks'].append(mark)        \n",
    "        \n",
    "    def agg(self):\n",
    "        count = 0\n",
    "        for mark in self.candidate['Marks']:\n",
    "            count += int(mark)    \n",
    "        return count/4\n"
   ]
  },
  {
   "cell_type": "code",
   "execution_count": null,
   "metadata": {},
   "outputs": [],
   "source": [
    "student1 = Student()\n",
    "student2 = Student()"
   ]
  },
  {
   "cell_type": "code",
   "execution_count": null,
   "metadata": {},
   "outputs": [],
   "source": [
    "student1.stu_input('Harry',65,78,76)\n",
    "student2.stu_input('Ron',76,98,45)"
   ]
  },
  {
   "cell_type": "code",
   "execution_count": null,
   "metadata": {},
   "outputs": [],
   "source": [
    "student1.candidate['Marks']"
   ]
  },
  {
   "cell_type": "code",
   "execution_count": null,
   "metadata": {},
   "outputs": [],
   "source": [
    "student2.candidate['Marks']"
   ]
  },
  {
   "cell_type": "markdown",
   "metadata": {},
   "source": [
    "# Syntax"
   ]
  },
  {
   "cell_type": "code",
   "execution_count": null,
   "metadata": {},
   "outputs": [],
   "source": [
    "class ClassName:\n",
    "    ## Can contains python statements\n",
    "    lst_A = list()\n",
    "    \n",
    "    def fun_A():\n",
    "        return None\n",
    "    \n",
    "    def fun_B():\n",
    "        return 0\n",
    "    \n",
    "    def fun_C():\n",
    "        return True       \n",
    "    \n"
   ]
  },
  {
   "cell_type": "markdown",
   "metadata": {},
   "source": [
    "# Simple Blank Class"
   ]
  },
  {
   "cell_type": "code",
   "execution_count": null,
   "metadata": {},
   "outputs": [],
   "source": [
    "class ClassA:\n",
    "    pass"
   ]
  },
  {
   "cell_type": "markdown",
   "metadata": {},
   "source": [
    "## Instantiation"
   ]
  },
  {
   "cell_type": "code",
   "execution_count": null,
   "metadata": {},
   "outputs": [],
   "source": [
    "## Create a new instance of the class and\n",
    "## assigns this objects to local variable e1 \n",
    "a1 = ClassA()\n",
    "a2 = ClassA()"
   ]
  },
  {
   "cell_type": "code",
   "execution_count": null,
   "metadata": {},
   "outputs": [],
   "source": [
    "a1.name = 'Harry'\n",
    "a2.name = 'Ron'\n",
    "a1.hobby = 'Quidditch'\n",
    "a2.family = 'Magic'"
   ]
  },
  {
   "cell_type": "code",
   "execution_count": null,
   "metadata": {},
   "outputs": [],
   "source": [
    "a1.family"
   ]
  },
  {
   "cell_type": "markdown",
   "metadata": {},
   "source": [
    "# Classes with attributes"
   ]
  },
  {
   "cell_type": "code",
   "execution_count": null,
   "metadata": {},
   "outputs": [],
   "source": [
    "class ClassB:    \n",
    "    company = 'XYZ'\n",
    "\n",
    "\n",
    "    def funcA():\n",
    "        '''\n",
    "            Calling this function by the instance object throws an error\\n\n",
    "            because self is not passed\n",
    "            \n",
    "        '''\n",
    "        print('Instance object calling funcA')\n",
    "    \n",
    "    def funcB(self): \n",
    "        '''\n",
    "            This function contains self argument. \n",
    "            Hence an instance object of ClassB can call this function\n",
    "            \n",
    "        '''\n",
    "        print('Instance object calling funcB')\n",
    "        \n",
    "        \n",
    "        \n",
    "        \n",
    "\n"
   ]
  },
  {
   "cell_type": "markdown",
   "metadata": {},
   "source": [
    "# Instance Objects\n",
    "<html>\n",
    "    <ul>\n",
    "        <li> Data Attributes\n",
    "        <li> Methods\n",
    "    \n",
    "</html>\n",
    "    "
   ]
  },
  {
   "cell_type": "code",
   "execution_count": null,
   "metadata": {},
   "outputs": [],
   "source": [
    "## Instantiation\n",
    "b1 = ClassB()\n",
    "b2 = ClassB()"
   ]
  },
  {
   "cell_type": "code",
   "execution_count": null,
   "metadata": {
    "tags": []
   },
   "outputs": [],
   "source": [
    "b2.__class__.funcA()"
   ]
  },
  {
   "cell_type": "code",
   "execution_count": null,
   "metadata": {
    "tags": []
   },
   "outputs": [],
   "source": [
    "b2.__class__.funcA()"
   ]
  },
  {
   "cell_type": "markdown",
   "metadata": {},
   "source": [
    "## Data Attributes"
   ]
  },
  {
   "cell_type": "code",
   "execution_count": null,
   "metadata": {},
   "outputs": [],
   "source": [
    "b1.shape = 'polygon'\n",
    "b1.name = 'pentagon'\n",
    "\n",
    "b2.geometry = 'square'\n",
    "b2.property = 'All sides are equal'"
   ]
  },
  {
   "cell_type": "markdown",
   "metadata": {},
   "source": [
    "## Methods"
   ]
  },
  {
   "cell_type": "code",
   "execution_count": null,
   "metadata": {},
   "outputs": [],
   "source": [
    "b1.funcB()"
   ]
  },
  {
   "cell_type": "code",
   "execution_count": null,
   "metadata": {},
   "outputs": [],
   "source": [
    "b1.funcA()"
   ]
  },
  {
   "cell_type": "markdown",
   "metadata": {},
   "source": [
    "# Class constructors"
   ]
  },
  {
   "cell_type": "code",
   "execution_count": null,
   "metadata": {},
   "outputs": [],
   "source": [
    "class Rectangle:\n",
    "    \n",
    "    def __init__(self,x_value,y_value):\n",
    "        self.x = x_value\n",
    "        self.y = y_value\n",
    "    \n",
    "    def area(self):\n",
    "        return self.x*self.y\n",
    "    \n",
    "    def perimeter(self):\n",
    "        return self.x+self.y\n",
    "        "
   ]
  },
  {
   "cell_type": "code",
   "execution_count": null,
   "metadata": {},
   "outputs": [],
   "source": [
    "param1 = 2\n",
    "param2 = 4\n",
    "id(param1),id(param2)"
   ]
  },
  {
   "cell_type": "code",
   "execution_count": null,
   "metadata": {},
   "outputs": [],
   "source": [
    "\n",
    "shape1 = Rectangle(param1,param2)\n",
    "id(shape1.x),id(shape1.y)\n",
    "shape1.x"
   ]
  },
  {
   "cell_type": "code",
   "execution_count": null,
   "metadata": {},
   "outputs": [],
   "source": [
    "shape2 = Rectangle(4,5)\n",
    "id(shape2.x),id(shape2.y)"
   ]
  },
  {
   "cell_type": "code",
   "execution_count": null,
   "metadata": {
    "tags": []
   },
   "outputs": [],
   "source": [
    "print(shape1.area())\n",
    "print(shape2.area())"
   ]
  },
  {
   "cell_type": "markdown",
   "metadata": {},
   "source": [
    "# Class and Instance Variables"
   ]
  },
  {
   "cell_type": "code",
   "execution_count": null,
   "metadata": {},
   "outputs": [],
   "source": [
    "class Car:\n",
    "    wheels = 4 ## Class variable shared by all instances \n",
    "    def __init__(self,model):\n",
    "        self.model = model\n",
    "        self.features = list() #instance variable unique to each instance\n",
    "        \n",
    "    def add_features(self,*args):\n",
    "        for feature in args:\n",
    "            self.features.append(feature)\n",
    "    "
   ]
  },
  {
   "cell_type": "code",
   "execution_count": null,
   "metadata": {},
   "outputs": [],
   "source": [
    "maruti = Car('Celerio')\n",
    "hyundai = Car('Santro')\n",
    "hyundai.add_features('Power Steering','Low Engine Noise')\n",
    "maruti.add_features('A/C','Fuel Economy')"
   ]
  },
  {
   "cell_type": "code",
   "execution_count": null,
   "metadata": {
    "tags": []
   },
   "outputs": [],
   "source": [
    "print('maruti object\\n special features-->{0},\\n common feature -->{1}'.format(maruti.features,maruti.wheels))\n",
    "print('hyundai object\\n special features-->{0},\\n common feature -->{1}'.format(hyundai.features,hyundai.wheels))"
   ]
  },
  {
   "cell_type": "markdown",
   "metadata": {},
   "source": [
    "# In Class Assignment 1\n",
    "<html>\n",
    "    <p style=\"color:Tomato;\"> Create a class with a name Student.</p>\n",
    "        <ul>\n",
    "            <li><p style=\"color:DodgerBlue;\"> Create a class variable and name it as College. Assign it to the string 'AMC'/'APSCE'\n",
    "                <li> <p style=\"color:DodgerBlue;\">Create the following instance variables</p>\n",
    "                <ul>\n",
    "                    <li> <p style=\"color:Violet;\">instance variable 'name'</p>\n",
    "                    <li> <p style=\"color:Violet;\">instance variable 'USN'</p>\n",
    "                </ul>\n",
    "            <li> <p style=\"color:DodgerBlue;\">Create the instance variable inside the contructor/Initializer</p>\n",
    "            <li> <p style=\"color:DodgerBlue;\">Create a function named 'stu_details'.\n",
    "                Inside the function, print the following details of a particular employee instance</p>\n",
    "                <ul>\n",
    "                    <li> <p style=\"color:Violet;\"> Student ID </p>\n",
    "                    <li> <p style=\"color:Violet;\"> Student Name </p>\n",
    "                    <li> <p style=\"color:Violet;\">College Name</p>                    \n",
    "    </ul> \n",
    "    "
   ]
  },
  {
   "cell_type": "code",
   "execution_count": null,
   "metadata": {},
   "outputs": [],
   "source": [
    "class Student:\n",
    "    # college = 'APSCE'\n",
    "\n",
    "    def __init__(self,student_name,student_usn):\n",
    "        self.name = student_name\n",
    "        self.usn = student_usn\n",
    "        self.college = 'APSCE'\n",
    "\n",
    "    def student_details(self):\n",
    "        print(f'Student ID : {self.usn} \\n Student Name : {self.name} \\n College Name: {self.college}')\n",
    "        # print('Student ID : {0} \\n Student Name : {1} \\n College Name: {2}'.format(\n",
    "        #     self.usn,self.name,self.college))"
   ]
  },
  {
   "cell_type": "code",
   "execution_count": null,
   "metadata": {
    "tags": []
   },
   "outputs": [],
   "source": [
    "student1 = Student('Chetan','1AP03EC017')\n",
    "student2 = Student('Akram','1AM14EC065')\n",
    "# student1.student_details()"
   ]
  },
  {
   "cell_type": "code",
   "execution_count": null,
   "metadata": {},
   "outputs": [],
   "source": [
    "student2.student_details()"
   ]
  },
  {
   "cell_type": "code",
   "execution_count": null,
   "metadata": {},
   "outputs": [],
   "source": [
    "student1"
   ]
  },
  {
   "cell_type": "code",
   "execution_count": null,
   "metadata": {},
   "outputs": [],
   "source": [
    "lst_one = list([1,2,3,4])\n",
    "lst_one"
   ]
  },
  {
   "cell_type": "code",
   "execution_count": null,
   "metadata": {
    "tags": []
   },
   "outputs": [],
   "source": [
    "student2.student_details()\n",
    "student2.college = 'AMCEC'\n",
    "student2.student_details()\n",
    "student1.student_details()"
   ]
  },
  {
   "cell_type": "code",
   "execution_count": null,
   "metadata": {},
   "outputs": [],
   "source": [
    "student1.college"
   ]
  },
  {
   "cell_type": "code",
   "execution_count": null,
   "metadata": {
    "tags": []
   },
   "outputs": [],
   "source": [
    "print(student1)"
   ]
  },
  {
   "cell_type": "code",
   "execution_count": null,
   "metadata": {
    "tags": []
   },
   "outputs": [],
   "source": [
    "print(lst1)"
   ]
  },
  {
   "cell_type": "code",
   "execution_count": null,
   "metadata": {},
   "outputs": [],
   "source": [
    "# student1 +student2\n",
    "lst_1 +lst_1"
   ]
  },
  {
   "cell_type": "markdown",
   "metadata": {},
   "source": [
    "## 5 min duration"
   ]
  },
  {
   "cell_type": "code",
   "execution_count": null,
   "metadata": {},
   "outputs": [],
   "source": []
  },
  {
   "cell_type": "markdown",
   "metadata": {},
   "source": [
    "import time\n",
    "time.sleep(5*60)"
   ]
  },
  {
   "cell_type": "code",
   "execution_count": null,
   "metadata": {},
   "outputs": [],
   "source": []
  }
 ],
 "metadata": {
  "kernelspec": {
   "display_name": "Python 3",
   "language": "python",
   "name": "python3"
  },
  "language_info": {
   "codemirror_mode": {
    "name": "ipython",
    "version": 3
   },
   "file_extension": ".py",
   "mimetype": "text/x-python",
   "name": "python",
   "nbconvert_exporter": "python",
   "pygments_lexer": "ipython3",
   "version": "3.7.6"
  },
  "toc": {
   "base_numbering": 1,
   "nav_menu": {},
   "number_sections": true,
   "sideBar": true,
   "skip_h1_title": false,
   "title_cell": "Table of Contents",
   "title_sidebar": "Contents",
   "toc_cell": false,
   "toc_position": {},
   "toc_section_display": true,
   "toc_window_display": false
  }
 },
 "nbformat": 4,
 "nbformat_minor": 2
}
