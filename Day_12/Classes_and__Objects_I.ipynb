{
 "cells": [
  {
   "cell_type": "markdown",
   "metadata": {},
   "source": [
    "# Syntax"
   ]
  },
  {
   "cell_type": "code",
   "execution_count": null,
   "metadata": {},
   "outputs": [],
   "source": [
    "class ClassName:\n",
    "    ## Can contains python statements\n",
    "    lst_A = list()\n",
    "    \n",
    "    def fun_A():\n",
    "        return None\n",
    "    \n",
    "    def fun_B():\n",
    "        return 0\n",
    "    \n",
    "    def fun_C():\n",
    "        return True       \n",
    "    \n"
   ]
  },
  {
   "cell_type": "markdown",
   "metadata": {},
   "source": [
    "# Simple Blank Class"
   ]
  },
  {
   "cell_type": "code",
   "execution_count": 3,
   "metadata": {},
   "outputs": [],
   "source": [
    "class ClassA:\n",
    "    pass"
   ]
  },
  {
   "cell_type": "markdown",
   "metadata": {},
   "source": [
    "## Instantiation"
   ]
  },
  {
   "cell_type": "code",
   "execution_count": 5,
   "metadata": {},
   "outputs": [],
   "source": [
    "## Create a new instance of the class and\n",
    "## assigns this objects to local variable e1 \n",
    "a1 = ClassA()\n",
    "a2 = ClassA()"
   ]
  },
  {
   "cell_type": "code",
   "execution_count": 8,
   "metadata": {},
   "outputs": [],
   "source": [
    "a1.name = 'Harry'\n",
    "a2.name = 'Ron'\n",
    "a1.hobby = 'Quidditch'\n",
    "a2.family = 'Magic'"
   ]
  },
  {
   "cell_type": "code",
   "execution_count": 12,
   "metadata": {},
   "outputs": [
    {
     "ename": "AttributeError",
     "evalue": "'ClassA' object has no attribute 'family'",
     "output_type": "error",
     "traceback": [
      "\u001b[0;31m---------------------------------------------------------------------------\u001b[0m",
      "\u001b[0;31mAttributeError\u001b[0m                            Traceback (most recent call last)",
      "\u001b[0;32m<ipython-input-12-3ba727e4538d>\u001b[0m in \u001b[0;36m<module>\u001b[0;34m\u001b[0m\n\u001b[0;32m----> 1\u001b[0;31m \u001b[0ma1\u001b[0m\u001b[0;34m.\u001b[0m\u001b[0mfamily\u001b[0m\u001b[0;34m\u001b[0m\u001b[0;34m\u001b[0m\u001b[0m\n\u001b[0m",
      "\u001b[0;31mAttributeError\u001b[0m: 'ClassA' object has no attribute 'family'"
     ]
    }
   ],
   "source": [
    "a1.family"
   ]
  },
  {
   "cell_type": "markdown",
   "metadata": {},
   "source": [
    "# Classes with attributes"
   ]
  },
  {
   "cell_type": "code",
   "execution_count": 39,
   "metadata": {},
   "outputs": [],
   "source": [
    "class ClassB:    \n",
    "    company = 'XYZ'\n",
    "\n",
    "\n",
    "    def funcA():\n",
    "        '''\n",
    "            Calling this function by the instance object throws an error\\n\n",
    "            because self is not passed\n",
    "            \n",
    "        '''\n",
    "        print('Instance object calling funcA')\n",
    "    \n",
    "    def funcB(self): \n",
    "        '''\n",
    "            This function contains self argument. \n",
    "            Hence an instance object of ClassB can call this function\n",
    "            \n",
    "        '''\n",
    "        print('Instance object calling funcB')\n",
    "        \n",
    "        \n",
    "        \n",
    "        \n",
    "\n"
   ]
  },
  {
   "cell_type": "markdown",
   "metadata": {},
   "source": [
    "# Instance Objects\n",
    "<html>\n",
    "    <ul>\n",
    "        <li> Data Attributes\n",
    "        <li> Methods\n",
    "    \n",
    "</html>\n",
    "    "
   ]
  },
  {
   "cell_type": "code",
   "execution_count": 40,
   "metadata": {},
   "outputs": [],
   "source": [
    "## Instantiation\n",
    "b1 = ClassB()\n",
    "b2 = ClassB()"
   ]
  },
  {
   "cell_type": "code",
   "execution_count": 45,
   "metadata": {
    "tags": []
   },
   "outputs": [
    {
     "name": "stdout",
     "output_type": "stream",
     "text": [
      "Instance object calling funcA\n"
     ]
    }
   ],
   "source": [
    "b2.__class__.funcA()"
   ]
  },
  {
   "cell_type": "code",
   "execution_count": 35,
   "metadata": {
    "tags": []
   },
   "outputs": [
    {
     "name": "stdout",
     "output_type": "stream",
     "text": [
      "Instance object calling funcA\n"
     ]
    }
   ],
   "source": [
    "b2.__class__.funcA()"
   ]
  },
  {
   "cell_type": "markdown",
   "metadata": {},
   "source": [
    "## Data Attributes"
   ]
  },
  {
   "cell_type": "code",
   "execution_count": 24,
   "metadata": {},
   "outputs": [],
   "source": [
    "b1.shape = 'polygon'\n",
    "b1.name = 'pentagon'\n",
    "\n",
    "b2.geometry = 'square'\n",
    "b2.property = 'All sides are equal'"
   ]
  },
  {
   "cell_type": "markdown",
   "metadata": {},
   "source": [
    "## Methods"
   ]
  },
  {
   "cell_type": "code",
   "execution_count": null,
   "metadata": {},
   "outputs": [],
   "source": [
    "b1.funcB()"
   ]
  },
  {
   "cell_type": "code",
   "execution_count": null,
   "metadata": {},
   "outputs": [],
   "source": [
    "b1.funcA()"
   ]
  },
  {
   "cell_type": "markdown",
   "metadata": {},
   "source": [
    "# Class constructors"
   ]
  },
  {
   "cell_type": "code",
   "execution_count": 59,
   "metadata": {},
   "outputs": [],
   "source": [
    "class Rectangle:\n",
    "    \n",
    "    def __init__(self,x_value,y_value):\n",
    "        self.x = x_value\n",
    "        self.y = y_value\n",
    "    \n",
    "    def area(self):\n",
    "        return self.x*self.y\n",
    "    \n",
    "    def perimeter(self):\n",
    "        return self.x+self.y\n",
    "        "
   ]
  },
  {
   "cell_type": "code",
   "execution_count": 49,
   "metadata": {},
   "outputs": [
    {
     "data": {
      "text/plain": [
       "(94281443754784, 94281443754848)"
      ]
     },
     "execution_count": 49,
     "metadata": {},
     "output_type": "execute_result"
    }
   ],
   "source": [
    "param1 = 2\n",
    "param2 = 4\n",
    "id(param1),id(param2)"
   ]
  },
  {
   "cell_type": "code",
   "execution_count": 60,
   "metadata": {},
   "outputs": [
    {
     "data": {
      "text/plain": [
       "2"
      ]
     },
     "execution_count": 60,
     "metadata": {},
     "output_type": "execute_result"
    }
   ],
   "source": [
    "\n",
    "shape1 = Rectangle(param1,param2)\n",
    "id(shape1.x),id(shape1.y)\n",
    "shape1.x"
   ]
  },
  {
   "cell_type": "code",
   "execution_count": 61,
   "metadata": {},
   "outputs": [
    {
     "data": {
      "text/plain": [
       "(94281443754848, 94281443754880)"
      ]
     },
     "execution_count": 61,
     "metadata": {},
     "output_type": "execute_result"
    }
   ],
   "source": [
    "shape2 = Rectangle(4,5)\n",
    "id(shape2.x),id(shape2.y)"
   ]
  },
  {
   "cell_type": "code",
   "execution_count": 62,
   "metadata": {
    "tags": []
   },
   "outputs": [
    {
     "name": "stdout",
     "output_type": "stream",
     "text": [
      "8\n",
      "20\n"
     ]
    }
   ],
   "source": [
    "print(shape1.area())\n",
    "print(shape2.area())"
   ]
  },
  {
   "cell_type": "markdown",
   "metadata": {},
   "source": [
    "# Class and Instance Variables"
   ]
  },
  {
   "cell_type": "code",
   "execution_count": 63,
   "metadata": {},
   "outputs": [],
   "source": [
    "class Car:\n",
    "    wheels = 4 ## Class variable shared by all instances \n",
    "    def __init__(self,model):\n",
    "        self.model = model\n",
    "        self.features = list() #instance variable unique to each instance\n",
    "        \n",
    "    def add_features(self,*args):\n",
    "        for feature in args:\n",
    "            self.features.append(feature)\n",
    "    "
   ]
  },
  {
   "cell_type": "code",
   "execution_count": 64,
   "metadata": {},
   "outputs": [],
   "source": [
    "maruti = Car('Celerio')\n",
    "hyundai = Car('Santro')\n",
    "hyundai.add_features('Power Steering','Low Engine Noise')\n",
    "maruti.add_features('A/C','Fuel Economy')"
   ]
  },
  {
   "cell_type": "code",
   "execution_count": 65,
   "metadata": {
    "tags": []
   },
   "outputs": [
    {
     "name": "stdout",
     "output_type": "stream",
     "text": [
      "maruti object\n",
      " special features-->['A/C', 'Fuel Economy'],\n",
      " common feature -->4\n",
      "hyundai object\n",
      " special features-->['Power Steering', 'Low Engine Noise'],\n",
      " common feature -->4\n"
     ]
    }
   ],
   "source": [
    "print('maruti object\\n special features-->{0},\\n common feature -->{1}'.format(maruti.features,maruti.wheels))\n",
    "print('hyundai object\\n special features-->{0},\\n common feature -->{1}'.format(hyundai.features,hyundai.wheels))"
   ]
  },
  {
   "cell_type": "markdown",
   "metadata": {},
   "source": [
    "# In Class Assignment 1\n",
    "<html>\n",
    "    <p style=\"color:Tomato;\"> Create a class with a name Student.</p>\n",
    "        <ul>\n",
    "            <li><p style=\"color:DodgerBlue;\"> Create a class variable and name it as College. Assign it to the string 'AMC'/'APSCE'\n",
    "                <li> <p style=\"color:DodgerBlue;\">Create the following instance variables</p>\n",
    "                <ul>\n",
    "                    <li> <p style=\"color:Violet;\">instance variable 'name'</p>\n",
    "                    <li> <p style=\"color:Violet;\">instance variable 'USN'</p>\n",
    "                </ul>\n",
    "            <li> <p style=\"color:DodgerBlue;\">Create the instance variable inside the contructor/Initializer</p>\n",
    "            <li> <p style=\"color:DodgerBlue;\">Create a function named 'stu_details'.\n",
    "                Inside the function, print the following details of a particular employee instance</p>\n",
    "                <ul>\n",
    "                    <li> <p style=\"color:Violet;\"> Student ID </p>\n",
    "                    <li> <p style=\"color:Violet;\"> Student Name </p>\n",
    "                    <li> <p style=\"color:Violet;\">College Name</p>                    \n",
    "    </ul> \n",
    "    "
   ]
  },
  {
   "cell_type": "code",
   "execution_count": 14,
   "metadata": {},
   "outputs": [],
   "source": [
    "class Student:\n",
    "    # college = 'APSCE'\n",
    "\n",
    "    def __init__(self,student_name,student_usn):\n",
    "        self.name = student_name\n",
    "        self.usn = student_usn\n",
    "        self.college = 'APSCE'\n",
    "\n",
    "    def student_details(self):\n",
    "        print(f'Student ID : {self.usn} \\n Student Name : {self.name} \\n College Name: {self.college}')\n",
    "        # print('Student ID : {0} \\n Student Name : {1} \\n College Name: {2}'.format(\n",
    "        #     self.usn,self.name,self.college))"
   ]
  },
  {
   "cell_type": "code",
   "execution_count": 15,
   "metadata": {
    "tags": []
   },
   "outputs": [],
   "source": [
    "student1 = Student('Chetan','1AP03EC017')\n",
    "student2 = Student('Akram','1AM14EC065')\n",
    "# student1.student_details()"
   ]
  },
  {
   "cell_type": "code",
   "execution_count": 16,
   "metadata": {},
   "outputs": [
    {
     "name": "stdout",
     "output_type": "stream",
     "text": [
      "Student ID : 1AM14EC065 \n",
      " Student Name : Akram \n",
      " College Name: APSCE\n"
     ]
    }
   ],
   "source": [
    "student2.student_details()"
   ]
  },
  {
   "cell_type": "code",
   "execution_count": 9,
   "metadata": {},
   "outputs": [
    {
     "data": {
      "text/plain": [
       "<__main__.Student at 0x7fe7617e6590>"
      ]
     },
     "execution_count": 9,
     "metadata": {},
     "output_type": "execute_result"
    }
   ],
   "source": [
    "student1"
   ]
  },
  {
   "cell_type": "code",
   "execution_count": 10,
   "metadata": {},
   "outputs": [
    {
     "data": {
      "text/plain": [
       "[1, 2, 3, 4]"
      ]
     },
     "execution_count": 10,
     "metadata": {},
     "output_type": "execute_result"
    }
   ],
   "source": [
    "lst_one = list([1,2,3,4])\n",
    "lst_one"
   ]
  },
  {
   "cell_type": "code",
   "execution_count": 113,
   "metadata": {
    "tags": []
   },
   "outputs": [
    {
     "name": "stdout",
     "output_type": "stream",
     "text": [
      "Student ID : 1AM14EC065 \n",
      " Student Name : Akram \n",
      " College Name: APSCE\n",
      "Student ID : 1AM14EC065 \n",
      " Student Name : Akram \n",
      " College Name: AMCEC\n",
      "Student ID : 1AP03EC017 \n",
      " Student Name : Chetan \n",
      " College Name: APSCE\n"
     ]
    }
   ],
   "source": [
    "student2.student_details()\n",
    "student2.college = 'AMCEC'\n",
    "student2.student_details()\n",
    "student1.student_details()"
   ]
  },
  {
   "cell_type": "code",
   "execution_count": 114,
   "metadata": {},
   "outputs": [
    {
     "data": {
      "text/plain": [
       "'APSCE'"
      ]
     },
     "execution_count": 114,
     "metadata": {},
     "output_type": "execute_result"
    }
   ],
   "source": [
    "student1.college"
   ]
  },
  {
   "cell_type": "code",
   "execution_count": 116,
   "metadata": {
    "tags": []
   },
   "outputs": [
    {
     "name": "stdout",
     "output_type": "stream",
     "text": [
      "<__main__.Student object at 0x7f0678fe9750>\n"
     ]
    }
   ],
   "source": [
    "print(student1)"
   ]
  },
  {
   "cell_type": "code",
   "execution_count": 118,
   "metadata": {
    "tags": []
   },
   "outputs": [
    {
     "name": "stdout",
     "output_type": "stream",
     "text": [
      "[1, 2, 3, 4]\n"
     ]
    }
   ],
   "source": [
    "print(lst1)"
   ]
  },
  {
   "cell_type": "code",
   "execution_count": 120,
   "metadata": {},
   "outputs": [
    {
     "data": {
      "text/plain": [
       "[1, 2, 3, 4, 1, 2, 3, 4]"
      ]
     },
     "execution_count": 120,
     "metadata": {},
     "output_type": "execute_result"
    }
   ],
   "source": [
    "# student1 +student2\n",
    "lst_1 +lst_1"
   ]
  },
  {
   "cell_type": "markdown",
   "metadata": {},
   "source": [
    "## 5 min duration"
   ]
  },
  {
   "cell_type": "code",
   "execution_count": null,
   "metadata": {},
   "outputs": [],
   "source": []
  },
  {
   "cell_type": "markdown",
   "metadata": {},
   "source": [
    "import time\n",
    "time.sleep(5*60)"
   ]
  },
  {
   "cell_type": "code",
   "execution_count": 1,
   "metadata": {},
   "outputs": [],
   "source": [
    "class Student:\n",
    "\n",
    "    def __init__(self,student_name,student_usn,college_name):\n",
    "        self.name = student_name\n",
    "        self.usn = student_usn\n",
    "        self.college = college_name\n",
    "\n",
    "    def student_details(self):\n",
    "        print(f'Student ID : {self.usn} \\n Student Name : {self.name} \\n College Name: {self.college}')\n",
    "        # print('Student ID : {0} \\n Student Name : {1} \\n College Name: {2}'.format(\n",
    "        #     self.usn,self.name,self.college))"
   ]
  },
  {
   "cell_type": "code",
   "execution_count": 12,
   "metadata": {},
   "outputs": [],
   "source": [
    "class College:\n",
    "\n",
    "    def __init__(self,name):\n",
    "        self.name = name\n",
    "        self.students = list()\n",
    "    \n",
    "    def add_students(self,*student_objs):\n",
    "        for student in student_objs:\n",
    "            if student.college == self.name:\n",
    "                self.students.append(student)\n",
    "            else:\n",
    "                print(f'Student {student.name} cannot be added to this college database')\n",
    "    \n",
    "    def display_students(self):\n",
    "        for student in self.students:\n",
    "            print(f'Student ID : {student.usn} \\n Student Name : {student.name} \\n College Name: {student.college}')\n"
   ]
  },
  {
   "cell_type": "code",
   "execution_count": 13,
   "metadata": {},
   "outputs": [],
   "source": [
    "college1 = College('AMCEC')\n",
    "college2 = College('APSCE')\n",
    "\n",
    "student1 = Student('Chetan','1AP03EC017','APSCE')\n",
    "student2 = Student('Akram','1AM14EC065','AMCEC')\n",
    "student3 = Student('Bruhanth','1AM03EC011','APSCE')\n",
    "student4 = Student('Shabbir','1AM14EC068','AMCEC')\n"
   ]
  },
  {
   "cell_type": "code",
   "execution_count": 14,
   "metadata": {
    "tags": []
   },
   "outputs": [
    {
     "name": "stdout",
     "output_type": "stream",
     "text": [
      "Student Chetan cannot be added to this college database\n",
      "Student Bruhanth cannot be added to this college database\n"
     ]
    }
   ],
   "source": [
    "college1.add_students(student1,student2,student3,student4)"
   ]
  },
  {
   "cell_type": "code",
   "execution_count": 15,
   "metadata": {
    "tags": []
   },
   "outputs": [
    {
     "name": "stdout",
     "output_type": "stream",
     "text": [
      "Student Akram cannot be added to this college database\n",
      "Student Shabbir cannot be added to this college database\n"
     ]
    }
   ],
   "source": [
    "college2.add_students(student1,student2,student3,student4)"
   ]
  },
  {
   "cell_type": "code",
   "execution_count": 16,
   "metadata": {},
   "outputs": [
    {
     "data": {
      "text/plain": [
       "[<__main__.Student at 0x7fbb340f5250>, <__main__.Student at 0x7fbb340d4250>]"
      ]
     },
     "execution_count": 16,
     "metadata": {},
     "output_type": "execute_result"
    }
   ],
   "source": [
    "college2.students"
   ]
  },
  {
   "cell_type": "code",
   "execution_count": 18,
   "metadata": {
    "tags": []
   },
   "outputs": [
    {
     "name": "stdout",
     "output_type": "stream",
     "text": [
      "Student ID : 1AM14EC065 \n",
      " Student Name : Akram \n",
      " College Name: AMCEC\n",
      "Student ID : 1AM14EC068 \n",
      " Student Name : Shabbir \n",
      " College Name: AMCEC\n"
     ]
    }
   ],
   "source": [
    "college1.display_students()"
   ]
  },
  {
   "cell_type": "code",
   "execution_count": null,
   "metadata": {},
   "outputs": [],
   "source": []
  },
  {
   "cell_type": "code",
   "execution_count": 16,
   "metadata": {},
   "outputs": [],
   "source": [
    "def add_num(x,y=0,z=0):\n",
    "    print(f'x:{x}\\ny:{y}\\nz:{z}')\n",
    "    return x+y+z"
   ]
  },
  {
   "cell_type": "code",
   "execution_count": 31,
   "metadata": {},
   "outputs": [
    {
     "name": "stdout",
     "output_type": "stream",
     "text": [
      "x:6\n",
      "y:4\n",
      "z:2\n"
     ]
    },
    {
     "data": {
      "text/plain": [
       "12"
      ]
     },
     "execution_count": 31,
     "metadata": {},
     "output_type": "execute_result"
    }
   ],
   "source": [
    "add_num(y=4,z=2,x=6)"
   ]
  },
  {
   "cell_type": "code",
   "execution_count": 27,
   "metadata": {},
   "outputs": [
    {
     "name": "stdout",
     "output_type": "stream",
     "text": [
      "hello \tworld python\n"
     ]
    }
   ],
   "source": [
    "print('hello ',end='\\t')\n",
    "print('world',end = ' ')\n",
    "print('python')"
   ]
  },
  {
   "cell_type": "code",
   "execution_count": 3,
   "metadata": {},
   "outputs": [
    {
     "ename": "TypeError",
     "evalue": "add_num() takes 2 positional arguments but 4 were given",
     "output_type": "error",
     "traceback": [
      "\u001b[0;31m---------------------------------------------------------------------------\u001b[0m",
      "\u001b[0;31mTypeError\u001b[0m                                 Traceback (most recent call last)",
      "\u001b[0;32m<ipython-input-3-ddbb41fc855a>\u001b[0m in \u001b[0;36m<module>\u001b[0;34m\u001b[0m\n\u001b[0;32m----> 1\u001b[0;31m \u001b[0madd_num\u001b[0m\u001b[0;34m(\u001b[0m\u001b[0;36m1\u001b[0m\u001b[0;34m,\u001b[0m\u001b[0;36m2\u001b[0m\u001b[0;34m,\u001b[0m\u001b[0;36m4\u001b[0m\u001b[0;34m,\u001b[0m\u001b[0;36m5\u001b[0m\u001b[0;34m)\u001b[0m\u001b[0;34m\u001b[0m\u001b[0;34m\u001b[0m\u001b[0m\n\u001b[0m",
      "\u001b[0;31mTypeError\u001b[0m: add_num() takes 2 positional arguments but 4 were given"
     ]
    }
   ],
   "source": [
    "add_num(1,2,4,5)"
   ]
  },
  {
   "cell_type": "code",
   "execution_count": 36,
   "metadata": {},
   "outputs": [],
   "source": [
    "def add_num_d(*num):\n",
    "    return sum(num)"
   ]
  },
  {
   "cell_type": "code",
   "execution_count": 37,
   "metadata": {},
   "outputs": [
    {
     "data": {
      "text/plain": [
       "21"
      ]
     },
     "execution_count": 37,
     "metadata": {},
     "output_type": "execute_result"
    }
   ],
   "source": [
    "add_num_d(1,2,3,4,5,6)"
   ]
  },
  {
   "cell_type": "code",
   "execution_count": 40,
   "metadata": {},
   "outputs": [],
   "source": [
    "def add_num_k(**kwargs):\n",
    "    print(kwargs)"
   ]
  },
  {
   "cell_type": "code",
   "execution_count": 41,
   "metadata": {},
   "outputs": [
    {
     "name": "stdout",
     "output_type": "stream",
     "text": [
      "{'x': 5, 'y': 6, 'z': 7}\n"
     ]
    }
   ],
   "source": [
    "add_num_k(x=5,y=6,z=7)"
   ]
  },
  {
   "cell_type": "code",
   "execution_count": 42,
   "metadata": {},
   "outputs": [],
   "source": [
    "import matplotlib.pyplot as plt"
   ]
  },
  {
   "cell_type": "code",
   "execution_count": 44,
   "metadata": {},
   "outputs": [],
   "source": [
    "plt.plot?"
   ]
  },
  {
   "cell_type": "code",
   "execution_count": 45,
   "metadata": {},
   "outputs": [
    {
     "name": "stderr",
     "output_type": "stream",
     "text": [
      "/home/chetan/anaconda3/lib/python3.7/importlib/_bootstrap.py:219: RuntimeWarning: numpy.ufunc size changed, may indicate binary incompatibility. Expected 192 from C header, got 216 from PyObject\n",
      "  return f(*args, **kwds)\n"
     ]
    }
   ],
   "source": [
    "import pandas as pd"
   ]
  },
  {
   "cell_type": "code",
   "execution_count": 70,
   "metadata": {},
   "outputs": [],
   "source": [
    "class College:\n",
    "    def __init__(self,semester):\n",
    "        self.semester = semester\n",
    "        self.students = list()\n",
    "        \n",
    "    def fn_tbd(self):\n",
    "        pass\n",
    "        \n",
    "    def add_student(self,student):\n",
    "        self.students.append(student)\n",
    "    \n",
    "        "
   ]
  },
  {
   "cell_type": "code",
   "execution_count": 71,
   "metadata": {},
   "outputs": [],
   "source": [
    "class Student:\n",
    "    def __init__(self,st_id,st_name,st_branch):\n",
    "        self.id = st_id\n",
    "        self.name = st_name\n",
    "        self.branch = st_branch\n",
    "    \n",
    "    def __repr__(self):\n",
    "        return self.name"
   ]
  },
  {
   "cell_type": "code",
   "execution_count": 63,
   "metadata": {},
   "outputs": [],
   "source": [
    "amc = College(4)"
   ]
  },
  {
   "cell_type": "code",
   "execution_count": 64,
   "metadata": {},
   "outputs": [],
   "source": [
    "stu1 = Student('1AM15EC004','Aishwarya','ECE')\n",
    "stu2 = Student('1AM15EC120','Sindhu','ECE')"
   ]
  },
  {
   "cell_type": "code",
   "execution_count": 65,
   "metadata": {},
   "outputs": [],
   "source": [
    "amc.add_student(stu1)\n",
    "amc.add_student(stu2)"
   ]
  },
  {
   "cell_type": "code",
   "execution_count": 66,
   "metadata": {},
   "outputs": [
    {
     "data": {
      "text/plain": [
       "[Aishwarya, Sindhu]"
      ]
     },
     "execution_count": 66,
     "metadata": {},
     "output_type": "execute_result"
    }
   ],
   "source": [
    "amc.students"
   ]
  },
  {
   "cell_type": "code",
   "execution_count": 69,
   "metadata": {},
   "outputs": [
    {
     "data": {
      "text/plain": [
       "'ECE'"
      ]
     },
     "execution_count": 69,
     "metadata": {},
     "output_type": "execute_result"
    }
   ],
   "source": [
    "amc.students[0].branch"
   ]
  }
 ],
 "metadata": {
  "kernelspec": {
   "display_name": "Python 3",
   "language": "python",
   "name": "python3"
  },
  "language_info": {
   "codemirror_mode": {
    "name": "ipython",
    "version": 3
   },
   "file_extension": ".py",
   "mimetype": "text/x-python",
   "name": "python",
   "nbconvert_exporter": "python",
   "pygments_lexer": "ipython3",
   "version": "3.7.6"
  }
 },
 "nbformat": 4,
 "nbformat_minor": 2
}
