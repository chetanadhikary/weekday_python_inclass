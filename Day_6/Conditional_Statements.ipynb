{
 "cells": [
  {
   "cell_type": "markdown",
   "metadata": {},
   "source": [
    "if <cond>:\n",
    "    <multiple statements>\n",
    "    ..\n",
    "    ..\n",
    "else:\n",
    "    ..\n",
    "    .."
   ]
  },
  {
   "cell_type": "markdown",
   "metadata": {},
   "source": [
    "## Numerical Datatype"
   ]
  },
  {
   "cell_type": "code",
   "execution_count": 1,
   "metadata": {},
   "outputs": [],
   "source": [
    "x = 7687\n",
    "y = 10.35\n",
    "z = 125"
   ]
  },
  {
   "cell_type": "markdown",
   "metadata": {},
   "source": [
    "### Simple If else statement"
   ]
  },
  {
   "cell_type": "markdown",
   "metadata": {},
   "source": [
    "* Find the largest number"
   ]
  },
  {
   "cell_type": "code",
   "execution_count": 2,
   "metadata": {},
   "outputs": [
    {
     "data": {
      "text/plain": [
       "True"
      ]
     },
     "execution_count": 2,
     "metadata": {},
     "output_type": "execute_result"
    }
   ],
   "source": [
    "x>y and x>z"
   ]
  },
  {
   "cell_type": "code",
   "execution_count": 5,
   "metadata": {
    "tags": []
   },
   "outputs": [
    {
     "name": "stdout",
     "output_type": "stream",
     "text": [
      "X = 7687 is the largest number\n"
     ]
    }
   ],
   "source": [
    "if x>y and x>z:\n",
    "    \n",
    "    print('X = {} is the largest number'.format(x))\n",
    "\n",
    "elif y>x and y>z:\n",
    "    print('Y = {} is the largest number'.format(y))\n",
    "else:\n",
    "    print('Z = {} is the largest number'.format(z))\n",
    "    "
   ]
  },
  {
   "cell_type": "markdown",
   "metadata": {},
   "source": [
    "### Nested If else statement"
   ]
  },
  {
   "cell_type": "code",
   "execution_count": null,
   "metadata": {
    "tags": []
   },
   "outputs": [],
   "source": [
    "if x>y :\n",
    "    if x>z:\n",
    "        print('X = {} is the largest number'.format(x))\n",
    "    else:\n",
    "        print('Z = {} is the largest number'.format(z))\n",
    "else:\n",
    "    if y>z:\n",
    "        print('Y = {} is the largest number'.format(y))\n",
    "    else:\n",
    "        print('Z = {} is the largest number'.format(z))\n",
    "    "
   ]
  },
  {
   "cell_type": "markdown",
   "metadata": {},
   "source": [
    "<html>\n",
    "    <b> 1. Write a program to prompt for a score between 0.0 and 1.0. If the\n",
    "score is out of range, print an error message. If the score is between 0.0 and 1.0,\n",
    "print a grade using the following table:\n",
    "        <p> Score Grade\n",
    "            <br>>= 0.9 A\n",
    "            <br>>= 0.8 B\n",
    "            <br>>= 0.7 C\n",
    "            <br>>= 0.6 D\n",
    "            <br>< 0.6  F "
   ]
  },
  {
   "cell_type": "code",
   "execution_count": 21,
   "metadata": {
    "tags": []
   },
   "outputs": [
    {
     "name": "stdout",
     "output_type": "stream",
     "text": [
      "Enter your grade between 0.0 and 1.0\n",
      "0.5\n"
     ]
    }
   ],
   "source": [
    "grade_in = float( input('Enter your grade between 0.0 and 1.0\\n'))\n",
    "if grade_in <=1.0 and grade_in >=0:\n",
    "    if grade_in >= 0.9:\n",
    "        print('Grade A')\n",
    "    elif grade_in >= 0.8 :\n",
    "        print('Grade B')\n",
    "    elif grade_in >=0.7:\n",
    "        print('Grade C')\n",
    "#     else:\n",
    "#         print('Grade not defined for the marks entered')\n",
    "else:\n",
    "    print('Grades should be less than 1.0 and greater than 0')\n",
    "\n"
   ]
  },
  {
   "cell_type": "markdown",
   "metadata": {},
   "source": [
    "## Text Datatype"
   ]
  },
  {
   "cell_type": "code",
   "execution_count": 22,
   "metadata": {
    "tags": []
   },
   "outputs": [
    {
     "name": "stdout",
     "output_type": "stream",
     "text": [
      "['__add__', '__class__', '__contains__', '__delattr__', '__dir__', '__doc__', '__eq__', '__format__', '__ge__', '__getattribute__', '__getitem__', '__getnewargs__', '__gt__', '__hash__', '__init__', '__init_subclass__', '__iter__', '__le__', '__len__', '__lt__', '__mod__', '__mul__', '__ne__', '__new__', '__reduce__', '__reduce_ex__', '__repr__', '__rmod__', '__rmul__', '__setattr__', '__sizeof__', '__str__', '__subclasshook__', 'capitalize', 'casefold', 'center', 'count', 'encode', 'endswith', 'expandtabs', 'find', 'format', 'format_map', 'index', 'isalnum', 'isalpha', 'isascii', 'isdecimal', 'isdigit', 'isidentifier', 'islower', 'isnumeric', 'isprintable', 'isspace', 'istitle', 'isupper', 'join', 'ljust', 'lower', 'lstrip', 'maketrans', 'partition', 'replace', 'rfind', 'rindex', 'rjust', 'rpartition', 'rsplit', 'rstrip', 'split', 'splitlines', 'startswith', 'strip', 'swapcase', 'title', 'translate', 'upper', 'zfill']\n"
     ]
    }
   ],
   "source": [
    "print(dir(str))"
   ]
  },
  {
   "cell_type": "code",
   "execution_count": null,
   "metadata": {},
   "outputs": [],
   "source": [
    "subject = 'artificial intelligence'"
   ]
  },
  {
   "cell_type": "markdown",
   "metadata": {},
   "source": [
    "* Check for the title case"
   ]
  },
  {
   "cell_type": "code",
   "execution_count": null,
   "metadata": {
    "tags": []
   },
   "outputs": [],
   "source": [
    "if not(subject.istitle()):\n",
    "    subject = subject.title()\n",
    "    print('Subject {} is changed to title case'.format(subject))\n",
    "else:\n",
    "    print('Subject {} is in title case'.format(subject))"
   ]
  },
  {
   "cell_type": "markdown",
   "metadata": {},
   "source": [
    "<html>\n",
    "    <b> 2. Write a program to check if the entered string is valid email ID </b>\n",
    "    <p> Hint:\n",
    "        <br> Check for the character '@' in the string </p>"
   ]
  },
  {
   "cell_type": "code",
   "execution_count": 24,
   "metadata": {},
   "outputs": [
    {
     "name": "stdout",
     "output_type": "stream",
     "text": [
      "['__add__', '__class__', '__contains__', '__delattr__', '__dir__', '__doc__', '__eq__', '__format__', '__ge__', '__getattribute__', '__getitem__', '__getnewargs__', '__gt__', '__hash__', '__init__', '__init_subclass__', '__iter__', '__le__', '__len__', '__lt__', '__mod__', '__mul__', '__ne__', '__new__', '__reduce__', '__reduce_ex__', '__repr__', '__rmod__', '__rmul__', '__setattr__', '__sizeof__', '__str__', '__subclasshook__', 'capitalize', 'casefold', 'center', 'count', 'encode', 'endswith', 'expandtabs', 'find', 'format', 'format_map', 'index', 'isalnum', 'isalpha', 'isascii', 'isdecimal', 'isdigit', 'isidentifier', 'islower', 'isnumeric', 'isprintable', 'isspace', 'istitle', 'isupper', 'join', 'ljust', 'lower', 'lstrip', 'maketrans', 'partition', 'replace', 'rfind', 'rindex', 'rjust', 'rpartition', 'rsplit', 'rstrip', 'split', 'splitlines', 'startswith', 'strip', 'swapcase', 'title', 'translate', 'upper', 'zfill']\n"
     ]
    }
   ],
   "source": [
    "print(dir(str))"
   ]
  },
  {
   "cell_type": "code",
   "execution_count": 25,
   "metadata": {},
   "outputs": [
    {
     "data": {
      "text/plain": [
       "True"
      ]
     },
     "execution_count": 25,
     "metadata": {},
     "output_type": "execute_result"
    }
   ],
   "source": [
    "x_str = 'amc@gmail.com'\n",
    "'@' in x_str"
   ]
  },
  {
   "cell_type": "code",
   "execution_count": 29,
   "metadata": {
    "tags": []
   },
   "outputs": [
    {
     "name": "stdout",
     "output_type": "stream",
     "text": [
      "Enter your email IDchetan\n",
      "Entered email ID is not valid\n"
     ]
    }
   ],
   "source": [
    "email_id = input('Enter your email ID')\n",
    "if '@' in email_id:\n",
    "    print('Entered adress is a valid email ID')\n",
    "else:\n",
    "    print('Entered email ID is not valid')"
   ]
  },
  {
   "cell_type": "markdown",
   "metadata": {},
   "source": [
    "## Lists"
   ]
  },
  {
   "cell_type": "code",
   "execution_count": null,
   "metadata": {
    "tags": []
   },
   "outputs": [],
   "source": [
    "print(dir(list))"
   ]
  },
  {
   "cell_type": "code",
   "execution_count": null,
   "metadata": {},
   "outputs": [],
   "source": [
    "lst_num_1 = [1,2,3,5,6,7,8,9,10]\n",
    "lst_num_2 = [10,9,8,7,6,5,4,3,2,1]"
   ]
  },
  {
   "cell_type": "markdown",
   "metadata": {},
   "source": [
    "* Check the order (ascending or descending)"
   ]
  },
  {
   "cell_type": "code",
   "execution_count": null,
   "metadata": {
    "tags": []
   },
   "outputs": [],
   "source": [
    "if lst_num_2[0] < lst_num_2[-1]:\n",
    "    print('List is in ascending order')\n",
    "else :\n",
    "    print('List is in descending order ')"
   ]
  },
  {
   "cell_type": "markdown",
   "metadata": {},
   "source": [
    "<html>\n",
    "    <b> 3. Write a program to help an user in choosing a fruit when he is ailing from cold . \n",
    "        <br> a. When the user enter the fruit check from the list of edible fruits and non edible fruits\n",
    "        <br> b. Print appropriate message on finding the category of fruit\n",
    "        <br> c. If the fruit is not under the list recommend a doctor suggestion \n",
    "        <p> list of edible fruits \n",
    "            <br> Apple, Gauva, Raspberry, cherry, Jackfruit\n",
    "        <p> List of non-edible fruits\n",
    "            <br> Grapes, Orange,banana,Watermelon, mango"
   ]
  },
  {
   "cell_type": "code",
   "execution_count": 33,
   "metadata": {
    "tags": []
   },
   "outputs": [
    {
     "name": "stdout",
     "output_type": "stream",
     "text": [
      "Enter a fruit to check \n",
      "mango\n",
      "Plese refrain from consuming mango\n"
     ]
    }
   ],
   "source": [
    "# %load if_3.py\n",
    "lst_edible_fruits = ['Apple', 'Gauva', 'Raspberry', 'Cherry', 'Jackfruit']\n",
    "lst_non_edible_fruits = ['Grapes', 'Orange','Banana','Watermelon', 'Mango']\n",
    "lst_fruits_unknown = list()\n",
    "fruit_in = input('Enter a fruit to check \\n')\n",
    "if fruit_in.title() in lst_edible_fruits:\n",
    "    print(f'The fruit {fruit_in} is edible')\n",
    "elif fruit_in.title() in lst_non_edible_fruits:\n",
    "    print(f'Plese refrain from consuming {fruit_in}')\n",
    "else:\n",
    "    print('The fruit is not listed')"
   ]
  },
  {
   "cell_type": "markdown",
   "metadata": {},
   "source": [
    "## Dictionary"
   ]
  },
  {
   "cell_type": "code",
   "execution_count": null,
   "metadata": {
    "tags": []
   },
   "outputs": [],
   "source": [
    "print(dir(dict))"
   ]
  },
  {
   "cell_type": "code",
   "execution_count": null,
   "metadata": {},
   "outputs": [],
   "source": [
    "dict_num = {1:'one',2:'two',3:'three',4:'four',5:'five'}"
   ]
  },
  {
   "cell_type": "markdown",
   "metadata": {},
   "source": [
    "* Check for an element in dictionary being a key or value"
   ]
  },
  {
   "cell_type": "code",
   "execution_count": null,
   "metadata": {},
   "outputs": [],
   "source": [
    "element = 'six'"
   ]
  },
  {
   "cell_type": "code",
   "execution_count": null,
   "metadata": {
    "tags": []
   },
   "outputs": [],
   "source": [
    "if element in dict_num.keys():\n",
    "    print('Element {} is a key in the dictionary'.format(element))\n",
    "elif element in dict_num.values():\n",
    "    print('Element {} is a value in the dictionary'.format(element))\n",
    "else:\n",
    "    print('Element {} not found in dictionary'.format(element))"
   ]
  },
  {
   "cell_type": "markdown",
   "metadata": {},
   "source": [
    "<html>\n",
    "    <b> 4. Write a program to help an user in choosing a fruit when he is ailing from cold . \n",
    "        <br> a. When the user enters the fruit, check from the dictionary of edible fruits and non edible fruits\n",
    "        <br> b. Print appropriate message on finding the category of fruit\n",
    "        <br> c. If the fruit is not under the list recommend a doctor suggestion \n",
    "        <p> list of edible fruits \n",
    "            <br> Apple, Gauva, Raspberry, cherry, Jackfruit\n",
    "        <p> List of non-edible fruits\n",
    "            <br> Grapes, Orange,banana,Watermelon, mango"
   ]
  },
  {
   "cell_type": "code",
   "execution_count": 34,
   "metadata": {
    "tags": []
   },
   "outputs": [],
   "source": [
    "# %load if_4.py\n",
    "dict_fruits = dict()\n",
    "dict_fruits['edible_fruits'] = ['Apple', 'Gauva', 'Raspberry', 'Cherry', 'Jackfruit']\n",
    "dict_fruits['non_edible_fruits'] = ['Grapes', 'Orange','Banana','Watermelon', 'Mango']"
   ]
  },
  {
   "cell_type": "code",
   "execution_count": 36,
   "metadata": {},
   "outputs": [
    {
     "data": {
      "text/plain": [
       "(['Apple', 'Gauva', 'Raspberry', 'Cherry', 'Jackfruit'],\n",
       " ['Grapes', 'Orange', 'Banana', 'Watermelon', 'Mango'])"
      ]
     },
     "execution_count": 36,
     "metadata": {},
     "output_type": "execute_result"
    }
   ],
   "source": [
    "dict_fruits['edible_fruits'],dict_fruits['non_edible_fruits']"
   ]
  },
  {
   "cell_type": "code",
   "execution_count": 37,
   "metadata": {
    "tags": []
   },
   "outputs": [
    {
     "name": "stdout",
     "output_type": "stream",
     "text": [
      "Enter a fruit to check \n",
      "apple\n",
      "The fruit apple is edible\n"
     ]
    }
   ],
   "source": [
    "# lst_fruits_unknown = list()\n",
    "fruit_in = input('Enter a fruit to check \\n')\n",
    "if fruit_in.title() in dict_fruits['edible_fruits']:\n",
    "    print(f'The fruit {fruit_in} is edible')\n",
    "elif fruit_in.title() in dict_fruits['non_edible_fruits']:\n",
    "    print(f'Plese refrain from consuming {fruit_in}')\n",
    "else:\n",
    "    print('The fruit is not listed')"
   ]
  }
 ],
 "metadata": {
  "kernelspec": {
   "display_name": "Python 3",
   "language": "python",
   "name": "python3"
  },
  "language_info": {
   "codemirror_mode": {
    "name": "ipython",
    "version": 3
   },
   "file_extension": ".py",
   "mimetype": "text/x-python",
   "name": "python",
   "nbconvert_exporter": "python",
   "pygments_lexer": "ipython3",
   "version": "3.7.6"
  },
  "toc": {
   "base_numbering": 1,
   "nav_menu": {},
   "number_sections": true,
   "sideBar": true,
   "skip_h1_title": false,
   "title_cell": "Table of Contents",
   "title_sidebar": "Contents",
   "toc_cell": false,
   "toc_position": {},
   "toc_section_display": true,
   "toc_window_display": false
  }
 },
 "nbformat": 4,
 "nbformat_minor": 2
}
