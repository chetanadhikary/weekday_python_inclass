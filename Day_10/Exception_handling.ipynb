{
 "cells": [
  {
   "cell_type": "markdown",
   "metadata": {},
   "source": [
    "## A calculator function "
   ]
  },
  {
   "cell_type": "code",
   "execution_count": 11,
   "metadata": {},
   "outputs": [],
   "source": [
    "def calculator(operation,a,b):\n",
    "        if (operation == 'add') or (operation == '+'):\n",
    "            return a+b\n",
    "        elif (operation=='sub') or (operation=='-'):\n",
    "            return a-b\n",
    "        elif (operation=='mul') or (operation=='*'):\n",
    "            return a*b\n",
    "        elif (operation=='div') or (operation=='/'):\n",
    "            return a/b\n",
    "        else: \n",
    "            return None"
   ]
  },
  {
   "cell_type": "code",
   "execution_count": 12,
   "metadata": {},
   "outputs": [
    {
     "ename": "ZeroDivisionError",
     "evalue": "float division by zero",
     "output_type": "error",
     "traceback": [
      "\u001b[1;31m---------------------------------------------------------------------------\u001b[0m",
      "\u001b[1;31mZeroDivisionError\u001b[0m                         Traceback (most recent call last)",
      "\u001b[1;32m<ipython-input-12-fa738ba9a2fa>\u001b[0m in \u001b[0;36m<module>\u001b[1;34m\u001b[0m\n\u001b[1;32m----> 1\u001b[1;33m \u001b[0mcalculator\u001b[0m\u001b[1;33m(\u001b[0m\u001b[1;34m'/'\u001b[0m\u001b[1;33m,\u001b[0m\u001b[1;36m5.23\u001b[0m\u001b[1;33m,\u001b[0m\u001b[1;36m0\u001b[0m\u001b[1;33m)\u001b[0m\u001b[1;33m\u001b[0m\u001b[1;33m\u001b[0m\u001b[0m\n\u001b[0m",
      "\u001b[1;32m<ipython-input-11-2516a7f5d4e2>\u001b[0m in \u001b[0;36mcalculator\u001b[1;34m(operation, a, b)\u001b[0m\n\u001b[0;32m      7\u001b[0m             \u001b[1;32mreturn\u001b[0m \u001b[0ma\u001b[0m\u001b[1;33m*\u001b[0m\u001b[0mb\u001b[0m\u001b[1;33m\u001b[0m\u001b[1;33m\u001b[0m\u001b[0m\n\u001b[0;32m      8\u001b[0m         \u001b[1;32melif\u001b[0m \u001b[1;33m(\u001b[0m\u001b[0moperation\u001b[0m\u001b[1;33m==\u001b[0m\u001b[1;34m'div'\u001b[0m\u001b[1;33m)\u001b[0m \u001b[1;32mor\u001b[0m \u001b[1;33m(\u001b[0m\u001b[0moperation\u001b[0m\u001b[1;33m==\u001b[0m\u001b[1;34m'/'\u001b[0m\u001b[1;33m)\u001b[0m\u001b[1;33m:\u001b[0m\u001b[1;33m\u001b[0m\u001b[1;33m\u001b[0m\u001b[0m\n\u001b[1;32m----> 9\u001b[1;33m             \u001b[1;32mreturn\u001b[0m \u001b[0ma\u001b[0m\u001b[1;33m/\u001b[0m\u001b[0mb\u001b[0m\u001b[1;33m\u001b[0m\u001b[1;33m\u001b[0m\u001b[0m\n\u001b[0m\u001b[0;32m     10\u001b[0m         \u001b[1;32melse\u001b[0m\u001b[1;33m:\u001b[0m\u001b[1;33m\u001b[0m\u001b[1;33m\u001b[0m\u001b[0m\n\u001b[0;32m     11\u001b[0m             \u001b[1;32mreturn\u001b[0m \u001b[1;32mNone\u001b[0m\u001b[1;33m\u001b[0m\u001b[1;33m\u001b[0m\u001b[0m\n",
      "\u001b[1;31mZeroDivisionError\u001b[0m: float division by zero"
     ]
    }
   ],
   "source": [
    "calculator('/',5.23,0)"
   ]
  },
  {
   "cell_type": "code",
   "execution_count": 3,
   "metadata": {},
   "outputs": [
    {
     "ename": "TypeError",
     "evalue": "unsupported operand type(s) for +: 'int' and 'str'",
     "output_type": "error",
     "traceback": [
      "\u001b[1;31m---------------------------------------------------------------------------\u001b[0m",
      "\u001b[1;31mTypeError\u001b[0m                                 Traceback (most recent call last)",
      "\u001b[1;32m<ipython-input-3-f233b8d72a2a>\u001b[0m in \u001b[0;36m<module>\u001b[1;34m\u001b[0m\n\u001b[1;32m----> 1\u001b[1;33m \u001b[0mcalculator\u001b[0m\u001b[1;33m(\u001b[0m\u001b[1;34m'+'\u001b[0m\u001b[1;33m,\u001b[0m\u001b[1;36m5\u001b[0m\u001b[1;33m,\u001b[0m\u001b[1;34m'0'\u001b[0m\u001b[1;33m)\u001b[0m\u001b[1;33m\u001b[0m\u001b[1;33m\u001b[0m\u001b[0m\n\u001b[0m",
      "\u001b[1;32m<ipython-input-1-2516a7f5d4e2>\u001b[0m in \u001b[0;36mcalculator\u001b[1;34m(operation, a, b)\u001b[0m\n\u001b[0;32m      1\u001b[0m \u001b[1;32mdef\u001b[0m \u001b[0mcalculator\u001b[0m\u001b[1;33m(\u001b[0m\u001b[0moperation\u001b[0m\u001b[1;33m,\u001b[0m\u001b[0ma\u001b[0m\u001b[1;33m,\u001b[0m\u001b[0mb\u001b[0m\u001b[1;33m)\u001b[0m\u001b[1;33m:\u001b[0m\u001b[1;33m\u001b[0m\u001b[1;33m\u001b[0m\u001b[0m\n\u001b[0;32m      2\u001b[0m         \u001b[1;32mif\u001b[0m \u001b[1;33m(\u001b[0m\u001b[0moperation\u001b[0m \u001b[1;33m==\u001b[0m \u001b[1;34m'add'\u001b[0m\u001b[1;33m)\u001b[0m \u001b[1;32mor\u001b[0m \u001b[1;33m(\u001b[0m\u001b[0moperation\u001b[0m \u001b[1;33m==\u001b[0m \u001b[1;34m'+'\u001b[0m\u001b[1;33m)\u001b[0m\u001b[1;33m:\u001b[0m\u001b[1;33m\u001b[0m\u001b[1;33m\u001b[0m\u001b[0m\n\u001b[1;32m----> 3\u001b[1;33m             \u001b[1;32mreturn\u001b[0m \u001b[0ma\u001b[0m\u001b[1;33m+\u001b[0m\u001b[0mb\u001b[0m\u001b[1;33m\u001b[0m\u001b[1;33m\u001b[0m\u001b[0m\n\u001b[0m\u001b[0;32m      4\u001b[0m         \u001b[1;32melif\u001b[0m \u001b[1;33m(\u001b[0m\u001b[0moperation\u001b[0m\u001b[1;33m==\u001b[0m\u001b[1;34m'sub'\u001b[0m\u001b[1;33m)\u001b[0m \u001b[1;32mor\u001b[0m \u001b[1;33m(\u001b[0m\u001b[0moperation\u001b[0m\u001b[1;33m==\u001b[0m\u001b[1;34m'-'\u001b[0m\u001b[1;33m)\u001b[0m\u001b[1;33m:\u001b[0m\u001b[1;33m\u001b[0m\u001b[1;33m\u001b[0m\u001b[0m\n\u001b[0;32m      5\u001b[0m             \u001b[1;32mreturn\u001b[0m \u001b[0ma\u001b[0m\u001b[1;33m-\u001b[0m\u001b[0mb\u001b[0m\u001b[1;33m\u001b[0m\u001b[1;33m\u001b[0m\u001b[0m\n",
      "\u001b[1;31mTypeError\u001b[0m: unsupported operand type(s) for +: 'int' and 'str'"
     ]
    }
   ],
   "source": [
    "calculator('+',5,'0')"
   ]
  },
  {
   "cell_type": "markdown",
   "metadata": {},
   "source": [
    "## Calculator function with try/except block"
   ]
  },
  {
   "cell_type": "code",
   "execution_count": 13,
   "metadata": {},
   "outputs": [],
   "source": [
    "def calculator(operation,a,b):\n",
    "    try:\n",
    "        if (operation == 'add') or (operation == '+'):\n",
    "            return a+b\n",
    "        elif (operation=='sub') or (operation=='-'):\n",
    "            return a-b\n",
    "        elif (operation=='mul') or (operation=='*'):\n",
    "            return a*b\n",
    "        elif (operation=='div') or (operation=='/'):\n",
    "            return a/b\n",
    "        else: \n",
    "            return None\n",
    "    except:\n",
    "        print('There was an exception')"
   ]
  },
  {
   "cell_type": "code",
   "execution_count": 14,
   "metadata": {},
   "outputs": [
    {
     "name": "stdout",
     "output_type": "stream",
     "text": [
      "There was an exception\n"
     ]
    }
   ],
   "source": [
    "calculator('/',5,0)"
   ]
  },
  {
   "cell_type": "code",
   "execution_count": 15,
   "metadata": {},
   "outputs": [
    {
     "name": "stdout",
     "output_type": "stream",
     "text": [
      "There was an exception\n"
     ]
    }
   ],
   "source": [
    "calculator('+',5,'0')"
   ]
  },
  {
   "cell_type": "markdown",
   "metadata": {},
   "source": [
    "## Calculator function with try/except and exception message"
   ]
  },
  {
   "cell_type": "code",
   "execution_count": 16,
   "metadata": {},
   "outputs": [],
   "source": [
    "def calculator(operation,a,b):\n",
    "    try:\n",
    "        if (operation == 'add') or (operation == '+'):\n",
    "            return a+b\n",
    "        elif (operation=='sub') or (operation=='-'):\n",
    "            return a-b\n",
    "        elif (operation=='mul') or (operation=='*'):\n",
    "            return a*b\n",
    "        elif (operation=='div') or (operation=='/'):\n",
    "            return a/b\n",
    "        else: \n",
    "            return None\n",
    "    except Exception as inst:\n",
    "        print(inst)"
   ]
  },
  {
   "cell_type": "code",
   "execution_count": 17,
   "metadata": {},
   "outputs": [
    {
     "name": "stdout",
     "output_type": "stream",
     "text": [
      "division by zero\n"
     ]
    }
   ],
   "source": [
    "calculator('/',5,0)"
   ]
  },
  {
   "cell_type": "code",
   "execution_count": 18,
   "metadata": {},
   "outputs": [
    {
     "name": "stdout",
     "output_type": "stream",
     "text": [
      "unsupported operand type(s) for +: 'int' and 'str'\n"
     ]
    }
   ],
   "source": [
    "calculator('+',5,'0')"
   ]
  },
  {
   "cell_type": "markdown",
   "metadata": {},
   "source": [
    "## Calculate function with single try and mulitple exception "
   ]
  },
  {
   "cell_type": "code",
   "execution_count": 19,
   "metadata": {},
   "outputs": [],
   "source": [
    "def calculator(operation,a,b):\n",
    "    try:\n",
    "        if (operation == 'add') or (operation == '+'):\n",
    "            return a+b\n",
    "        elif (operation=='sub') or (operation=='-'):\n",
    "            return a-b\n",
    "        elif (operation=='mul') or (operation=='*'):\n",
    "            return a*b\n",
    "        elif (operation=='div') or (operation=='/'):\n",
    "            return a/b\n",
    "        else:\n",
    "            return None\n",
    "    except ZeroDivisionError as ze:\n",
    "        print(ze)\n",
    "        print('Please enter a non zero value for the denominator')\n",
    "    except TypeError as te:\n",
    "        print(te)\n",
    "        print('Please provide valid numerical inputs')"
   ]
  },
  {
   "cell_type": "code",
   "execution_count": 20,
   "metadata": {},
   "outputs": [
    {
     "name": "stdout",
     "output_type": "stream",
     "text": [
      "division by zero\n",
      "Please enter a non zero value for the denominator\n"
     ]
    }
   ],
   "source": [
    "calculator('/',5,0)"
   ]
  },
  {
   "cell_type": "code",
   "execution_count": 21,
   "metadata": {},
   "outputs": [
    {
     "name": "stdout",
     "output_type": "stream",
     "text": [
      "unsupported operand type(s) for +: 'int' and 'str'\n",
      "Please provide valid numerical inputs\n"
     ]
    }
   ],
   "source": [
    "calculator('+',5,'0')"
   ]
  },
  {
   "cell_type": "markdown",
   "metadata": {},
   "source": [
    "## Calculate function with single try and mulitple exception along with user defined exception message"
   ]
  },
  {
   "cell_type": "code",
   "execution_count": null,
   "metadata": {},
   "outputs": [],
   "source": [
    "def calculator(operation,a,b):\n",
    "    try:\n",
    "        if (operation == 'add') or (operation == '+'):\n",
    "            return a+b\n",
    "        elif (operation=='sub') or (operation=='-'):\n",
    "            return a-b\n",
    "        elif (operation=='mul') or (operation=='*'):\n",
    "            return a*b\n",
    "        elif (operation=='div') or (operation=='/'):\n",
    "            return a/b\n",
    "        else:\n",
    "            return None\n",
    "    except ZeroDivisionError as e:\n",
    "        print(e)\n",
    "        print('Operation {} is not defined on {} & {}'.format(operation,a,b))\n",
    "    except TypeError as e:\n",
    "        print(e)\n",
    "        print('Please provide valid inputs')"
   ]
  },
  {
   "cell_type": "code",
   "execution_count": 22,
   "metadata": {},
   "outputs": [],
   "source": [
    "calculator('*+',5,6)"
   ]
  },
  {
   "cell_type": "code",
   "execution_count": null,
   "metadata": {},
   "outputs": [],
   "source": [
    "calculator('/',5,0)"
   ]
  },
  {
   "cell_type": "code",
   "execution_count": null,
   "metadata": {},
   "outputs": [],
   "source": [
    "calculator('+',5,'0')"
   ]
  },
  {
   "cell_type": "markdown",
   "metadata": {},
   "source": [
    "## Calculator function with raise exception"
   ]
  },
  {
   "cell_type": "code",
   "execution_count": 23,
   "metadata": {},
   "outputs": [],
   "source": [
    "def calculator(operation,a,b):\n",
    "    try:\n",
    "        if (operation == 'add') or (operation == '+'):\n",
    "            return a+b\n",
    "        elif (operation=='sub') or (operation=='-'):\n",
    "            return a-b\n",
    "        elif (operation=='mul') or (operation=='*'):\n",
    "            return a*b\n",
    "        elif (operation=='div') or (operation=='/'):\n",
    "            return a/b\n",
    "        else:\n",
    "            raise TypeError\n",
    "    except ZeroDivisionError as e:\n",
    "        print(e)\n",
    "        print('Operation {} is not defined on {} & {}'.format(operation,a,b))\n",
    "    except TypeError as e:\n",
    "        print(e)\n",
    "        print('Please provide valid inputs')"
   ]
  },
  {
   "cell_type": "code",
   "execution_count": 24,
   "metadata": {},
   "outputs": [
    {
     "name": "stdout",
     "output_type": "stream",
     "text": [
      "division by zero\n",
      "Operation / is not defined on 5 & 0\n"
     ]
    }
   ],
   "source": [
    "calculator('/',5,0)"
   ]
  },
  {
   "cell_type": "code",
   "execution_count": 25,
   "metadata": {},
   "outputs": [
    {
     "name": "stdout",
     "output_type": "stream",
     "text": [
      "unsupported operand type(s) for +: 'int' and 'str'\n",
      "Please provide valid inputs\n"
     ]
    }
   ],
   "source": [
    "calculator('+',5,'0')"
   ]
  },
  {
   "cell_type": "code",
   "execution_count": 26,
   "metadata": {},
   "outputs": [
    {
     "name": "stdout",
     "output_type": "stream",
     "text": [
      "\n",
      "Please provide valid inputs\n"
     ]
    }
   ],
   "source": [
    "calculator('+*',5,0)"
   ]
  },
  {
   "cell_type": "markdown",
   "metadata": {},
   "source": [
    "<html>\n",
    "    <b> 1. Write a program to prompt for a score between 0.0 and 1.0. If the\n",
    "score is out of range, print an error message. If the score is between 0.0 and 1.0,\n",
    "print a grade using the following table:\n",
    "        <p> Score Grade\n",
    "            <br>>= 0.9 A\n",
    "            <br>>= 0.8 B\n",
    "            <br>>= 0.7 C\n",
    "            <br>>= 0.6 D\n",
    "            <br>< 0.6  F \n",
    "</html>"
   ]
  },
  {
   "cell_type": "code",
   "execution_count": null,
   "metadata": {},
   "outputs": [],
   "source": []
  },
  {
   "cell_type": "code",
   "execution_count": 3,
   "metadata": {},
   "outputs": [],
   "source": [
    "def grade_student():\n",
    "    while True:\n",
    "        try:\n",
    "            grade_in =  input('Enter your grade between 0.0 and 1.0\\n X to exit')\n",
    "            grade_in = float(grade_in)\n",
    "            if grade_in <=1.0 and grade_in >=0:\n",
    "                if grade_in >= 0.9:\n",
    "                    print('Grade A')\n",
    "                elif grade_in >= 0.8 :\n",
    "                    print('Grade B')\n",
    "                elif grade_in >=0.7:\n",
    "                    print('Grade C')                \n",
    "            else:\n",
    "                raise TypeError\n",
    "        except TypeError:            \n",
    "            print('Invalid Input')\n",
    "        except ValueError:\n",
    "            if grade_in ==  'X':\n",
    "                print('Exiting the program')\n",
    "                return None           \n",
    "            print('Not numerical Value')"
   ]
  },
  {
   "cell_type": "code",
   "execution_count": 4,
   "metadata": {},
   "outputs": [
    {
     "name": "stdout",
     "output_type": "stream",
     "text": [
      "Enter your grade between 0.0 and 1.0\n",
      " X to exit6.7\n",
      "Invalid Input\n",
      "Enter your grade between 0.0 and 1.0\n",
      " X to exit0.8\n",
      "Grade B\n",
      "Enter your grade between 0.0 and 1.0\n",
      " X to exitX\n",
      "Exiting the program\n"
     ]
    },
    {
     "data": {
      "text/plain": [
       "'Goodbye'"
      ]
     },
     "execution_count": 4,
     "metadata": {},
     "output_type": "execute_result"
    }
   ],
   "source": [
    "grade_student()"
   ]
  },
  {
   "cell_type": "markdown",
   "metadata": {},
   "source": [
    "## Function to read files"
   ]
  },
  {
   "cell_type": "code",
   "execution_count": null,
   "metadata": {},
   "outputs": [],
   "source": []
  },
  {
   "cell_type": "code",
   "execution_count": null,
   "metadata": {},
   "outputs": [],
   "source": [
    "def read_file(file):\n",
    "    try:\n",
    "        fh = open(file)\n",
    "        raise TypeError\n",
    "            \n",
    "    except:\n",
    "        print('Inside except block')\n",
    "        print('Has the file {} closed : {}'.format(file,fh.closed)) \n",
    "\n",
    "    finally:\n",
    "        fh.close()\n",
    "        print('Inside finally block')\n",
    "        print('Has the file {} closed : {}'.format(file,fh.closed))"
   ]
  },
  {
   "cell_type": "code",
   "execution_count": null,
   "metadata": {},
   "outputs": [],
   "source": [
    "read_file('mailbox.txt')"
   ]
  },
  {
   "cell_type": "code",
   "execution_count": null,
   "metadata": {},
   "outputs": [],
   "source": []
  }
 ],
 "metadata": {
  "kernelspec": {
   "display_name": "Python 3",
   "language": "python",
   "name": "python3"
  },
  "language_info": {
   "codemirror_mode": {
    "name": "ipython",
    "version": 3
   },
   "file_extension": ".py",
   "mimetype": "text/x-python",
   "name": "python",
   "nbconvert_exporter": "python",
   "pygments_lexer": "ipython3",
   "version": "3.7.6"
  },
  "toc": {
   "base_numbering": 1,
   "nav_menu": {},
   "number_sections": true,
   "sideBar": true,
   "skip_h1_title": false,
   "title_cell": "Table of Contents",
   "title_sidebar": "Contents",
   "toc_cell": false,
   "toc_position": {},
   "toc_section_display": true,
   "toc_window_display": false
  }
 },
 "nbformat": 4,
 "nbformat_minor": 2
}
