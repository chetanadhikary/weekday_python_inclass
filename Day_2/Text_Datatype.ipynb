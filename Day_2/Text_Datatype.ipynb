{
 "cells": [
  {
   "cell_type": "markdown",
   "metadata": {},
   "source": [
    "## Text Datatype"
   ]
  },
  {
   "cell_type": "code",
   "execution_count": null,
   "metadata": {
    "tags": []
   },
   "outputs": [],
   "source": [
    "print(dir(str))"
   ]
  },
  {
   "cell_type": "code",
   "execution_count": null,
   "metadata": {
    "tags": []
   },
   "outputs": [],
   "source": [
    "help(str.capitalize)"
   ]
  },
  {
   "cell_type": "code",
   "execution_count": null,
   "metadata": {},
   "outputs": [],
   "source": [
    "x_str = 'hello world'\n",
    "x_upper = x_str.upper()\n",
    "x_title = x_str.title()"
   ]
  },
  {
   "cell_type": "code",
   "execution_count": null,
   "metadata": {
    "tags": []
   },
   "outputs": [],
   "source": [
    "print(id(x_title),id(x_upper),id(x_str))"
   ]
  },
  {
   "cell_type": "markdown",
   "metadata": {},
   "source": [
    "## Indexing in Strings"
   ]
  },
  {
   "cell_type": "markdown",
   "metadata": {},
   "source": [
    "<html>\n",
    "<ul>\n",
    "<li> String object is collection of string objects </li>\n",
    "<li> In strings each letter can be accessed by indexing.</li>\n",
    "<li> Indexing in strings starts with zero (Count postion from left to right ) </li>\n",
    "<li> Negative indexing can also be used </li>\n",
    "<li> Negative indexing in string start with negative 1 (Count position from right to left) </li>\n",
    "<li> Collection of letters can also be obtained using slicing </li>\n",
    "<li> Slicing is done using ':' operator </li>\n",
    "</html>"
   ]
  },
  {
   "cell_type": "code",
   "execution_count": null,
   "metadata": {
    "tags": []
   },
   "outputs": [],
   "source": [
    "## Indexing\n",
    "print(f'x_str[3] : {x_str[3]},\\nx_str[0] : {x_str[0]}')\n",
    "print(f'Using negative index -1 to get the last character  x_str[-1]: {x_str[-1]}')\n"
   ]
  },
  {
   "cell_type": "code",
   "execution_count": null,
   "metadata": {
    "tags": []
   },
   "outputs": [],
   "source": [
    "## Slicing\n",
    "# Collection of leeters from 0th position to till 5; 5th element is not included\n",
    "print(f'x_str[0:5] : {x_str[0:5]}')\n",
    "# If slicing has to be done till the end of the string , the ending position need not be explicitly mentioned\n",
    "print(f'x_str[5:] : {x_str[5:]}')\n",
    "#Slicing can done with negative indexes also\n",
    "print(f'x_str[-5:] : {x_str[-5:]}') \n"
   ]
  },
  {
   "cell_type": "code",
   "execution_count": null,
   "metadata": {
    "tags": []
   },
   "outputs": [],
   "source": [
    "## Slicing with a counter attribute\n",
    "print(f'x_str[0:5:2] : {x_str[0:5:2]}') ## Integer 2 will pick every 2nd count\n",
    "print(f'x_str[::3] : {x_str[::3]}') ## Integer 3 will pick every 3rd count\n",
    "print(f'x_str[::-1] : {x_str[::-1]}') ## -1 counter will start from picking from right to left"
   ]
  },
  {
   "cell_type": "markdown",
   "metadata": {},
   "source": [
    "## Concatination of Strings"
   ]
  },
  {
   "cell_type": "markdown",
   "metadata": {},
   "source": [
    "<html>\n",
    "<p> Strings can be added using '+' operator </p>\n",
    "</html>\n"
   ]
  },
  {
   "cell_type": "code",
   "execution_count": null,
   "metadata": {
    "tags": []
   },
   "outputs": [],
   "source": [
    "str_1 = x_str[0:5] # Get hello from hello world\n",
    "str_2 = 'python' # Create new string object 'python' and reference is assigned to variable 'str_2'\n",
    "res_str = str_1 + str_2 # Combining the strings creates an new string object and referred by res_str \n",
    "print(f'Resulted string :{res_str}')"
   ]
  },
  {
   "cell_type": "code",
   "execution_count": null,
   "metadata": {},
   "outputs": [],
   "source": []
  },
  {
   "cell_type": "markdown",
   "metadata": {},
   "source": [
    "## Strings are Immutable"
   ]
  },
  {
   "cell_type": "markdown",
   "metadata": {},
   "source": [
    "<html>\n",
    "<p> String Objects once created cannot be changed. The memory reference of each letter in a word or word in a sentence cannot be changed.</p>\n",
    "<p>This characteristic in a string object of being not able to modify after creation is called <b> Immutability </b></p>\n",
    "<p> Any operation violated this will generate an Type Error stating 'str' object does not support item assignment\n",
    "</html>\n"
   ]
  },
  {
   "cell_type": "code",
   "execution_count": null,
   "metadata": {},
   "outputs": [],
   "source": [
    "x_str[0] = 'H'"
   ]
  },
  {
   "cell_type": "markdown",
   "metadata": {},
   "source": [
    "## Command chain in Strings"
   ]
  },
  {
   "cell_type": "code",
   "execution_count": null,
   "metadata": {
    "tags": []
   },
   "outputs": [],
   "source": [
    "final_str = x_str.replace('world','python').title()\n",
    "# 'world' string is replaced by 'python' and a new string object gets created.\n",
    "# Function title() is applied to this new string object created. \n",
    "# This operation creates another new string whose reference is assigned to final_str\n",
    "print(final_str)"
   ]
  },
  {
   "cell_type": "markdown",
   "metadata": {},
   "source": [
    "## Input from User"
   ]
  },
  {
   "cell_type": "markdown",
   "metadata": {},
   "source": [
    "<html>\n",
    "<p> Python function input() can be used to take input from the users</p>\n",
    "<p> input() function always returns an string object </p>\n",
    "</html>"
   ]
  },
  {
   "cell_type": "code",
   "execution_count": null,
   "metadata": {
    "tags": []
   },
   "outputs": [],
   "source": [
    "help(input)"
   ]
  },
  {
   "cell_type": "code",
   "execution_count": null,
   "metadata": {
    "tags": []
   },
   "outputs": [],
   "source": [
    "# Input function outputs the prompt ' Enter your name: ' \n",
    "# It creates an string object from the user entry\n",
    "# This object reference is given to the variable name \n",
    "name = input('Enter the your name :')\n",
    "print(f'The name entered is  {name}')"
   ]
  },
  {
   "cell_type": "markdown",
   "metadata": {},
   "source": [
    "<html>\n",
    "    <b> 1. Write a program to \n",
    "        <br>a. To take two inputs from user, first name and last name\n",
    "        <br>b. Print the full name of the user with greetings. Example hello Harry Potter\n",
    "        "
   ]
  },
  {
   "cell_type": "markdown",
   "metadata": {},
   "source": [
    "<html>\n",
    "    <b>2. Write a program which prompts the user for a Celsius temperature,\n",
    "        convert the temperature to Fahrenheit, and print out the converted temperature.</b>"
   ]
  },
  {
   "cell_type": "markdown",
   "metadata": {},
   "source": [
    "### Hint:\n",
    "#### Formula:\n",
    "  (0°C × 9/5) + 32 = 32°F "
   ]
  },
  {
   "cell_type": "markdown",
   "metadata": {},
   "source": [
    "<html>\n",
    "    <b> 3. Write a program to prompt the user for hours and rate per hour to\n",
    "        compute gross pay.</b>\n",
    "    <p> <b><i>Expected Output</i></b></p>\n",
    "    <p><i>Enter Hours</i>: 35 </p>\n",
    "    <p><i>Enter Rate</i>: 2.75</p>\n",
    "    <p><i>Pay</i>: 96.25</p>"
   ]
  },
  {
   "cell_type": "code",
   "execution_count": null,
   "metadata": {
    "tags": []
   },
   "outputs": [],
   "source": []
  }
 ],
 "metadata": {
  "kernelspec": {
   "display_name": "Python 3",
   "language": "python",
   "name": "python3"
  },
  "language_info": {
   "codemirror_mode": {
    "name": "ipython",
    "version": 3
   },
   "file_extension": ".py",
   "mimetype": "text/x-python",
   "name": "python",
   "nbconvert_exporter": "python",
   "pygments_lexer": "ipython3",
   "version": "3.7.7"
  },
  "toc": {
   "base_numbering": 1,
   "nav_menu": {},
   "number_sections": true,
   "sideBar": true,
   "skip_h1_title": false,
   "title_cell": "Table of Contents",
   "title_sidebar": "Contents",
   "toc_cell": false,
   "toc_position": {},
   "toc_section_display": true,
   "toc_window_display": false
  }
 },
 "nbformat": 4,
 "nbformat_minor": 2
}
