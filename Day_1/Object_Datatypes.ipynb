{
 "cells": [
  {
   "cell_type": "markdown",
   "metadata": {},
   "source": [
    "# Important Functions"
   ]
  },
  {
   "cell_type": "code",
   "execution_count": null,
   "metadata": {},
   "outputs": [],
   "source": [
    "print('Hello world ')\n",
    "print('Hello python')"
   ]
  },
  {
   "cell_type": "code",
   "execution_count": null,
   "metadata": {
    "tags": []
   },
   "outputs": [],
   "source": [
    "help(help)"
   ]
  },
  {
   "cell_type": "code",
   "execution_count": null,
   "metadata": {
    "tags": []
   },
   "outputs": [],
   "source": [
    "help(print)"
   ]
  },
  {
   "cell_type": "code",
   "execution_count": null,
   "metadata": {
    "tags": []
   },
   "outputs": [],
   "source": [
    "help(dir)"
   ]
  },
  {
   "cell_type": "markdown",
   "metadata": {},
   "source": [
    "# Object types"
   ]
  },
  {
   "cell_type": "markdown",
   "metadata": {},
   "source": [
    "<table id=\"built-in_objects_preview\"><caption><span class=\"label\">Table 4-1. </span></caption><thead><tr><th>Object\n",
    "            type</th><th>Example\n",
    "            literals/creation</th></tr></thead><tbody><tr><td><p>Num<a data-type=\"indexterm\" data-primary=\"numbers\" data-secondary=\"numeric literals\" id=\"idm45598228681320\"></a><a data-type=\"indexterm\" data-primary=\"literals\" data-secondary=\"numeric\" id=\"idm45598228680344\"></a>bers</p></td><td><p><code>1234</code>, <code>3.1415</code>, <code>3+4j</code>, <code>0b111</code>, <code>Decimal()</code>, <code>Fraction()</code></p></td></tr><tr><td><p>Strin<a data-type=\"indexterm\" data-primary=\"strings (str object)\" data-secondary=\"literals\" id=\"idm45598228673432\"></a><a data-type=\"indexterm\" data-primary=\"literals\" data-secondary=\"string\" id=\"idm45598228672280\"></a>gs</p></td><td><p><code>'spam'</code>, <code>\"Bob's\"</code>, <code>b'a\\x01c'</code>, <code>u'sp\\xc4m'</code></p></td></tr><tr><td><p>Lis<a data-type=\"indexterm\" data-primary=\"lists (list object)\" data-secondary=\"literals\" id=\"idm45598228668248\"></a><a data-type=\"indexterm\" data-primary=\"literals\" data-secondary=\"list\" id=\"idm45598228667016\"></a>ts</p></td><td><p><code>[1, [2, 'three'], 4.5]</code>, <code>list(range(10))</code></p></td></tr><tr><td><p>Dict<a data-type=\"indexterm\" data-primary=\"dictionaries (dict object)\" data-secondary=\"literals\" id=\"idm45598228663496\"></a><a data-type=\"indexterm\" data-primary=\"literals\" data-secondary=\"dictionary\" id=\"idm45598228662264\"></a>ionaries</p></td><td><p><code>{'food': 'spam', 'taste': 'yum'}</code>,\n",
    "            <code>dict(hours=10)</code></p></td></tr><tr><td><p>Tup<a data-type=\"indexterm\" data-primary=\"tuples\" data-secondary=\"literals\" id=\"idm45598228658776\"></a><a data-type=\"indexterm\" data-primary=\"literals\" data-secondary=\"tuple\" id=\"idm45598228657480\"></a>les</p></td><td><p><code>(1, 'spam', 4, 'U')</code>, <code>tuple('spam')</code>, <code>namedtuple</code></p></td></tr><tr><td><p>Set<a data-type=\"indexterm\" data-primary=\"sets\" data-secondary=\"literals\" id=\"idm45598228648696\"></a><a data-type=\"indexterm\" data-primary=\"literals\" data-secondary=\"set\" id=\"idm45598228647496\"></a>s</p></td><td><p><code>set('abc')</code>, <code>{'a', 'b', 'c'}</code></p></td></tr></tbody></table"
   ]
  },
  {
   "cell_type": "markdown",
   "metadata": {},
   "source": [
    "<html>\n",
    "    <i> Source  : Learning Python, 5th Edition\n",
    "by Mark Lutz </i>"
   ]
  },
  {
   "cell_type": "markdown",
   "metadata": {},
   "source": [
    "# Numerical Datatype"
   ]
  },
  {
   "cell_type": "markdown",
   "metadata": {},
   "source": [
    "<table id=\"numeric_literals_and_constructors\"><caption><span class=\"label\">Table 5-1. </span></caption><thead><tr><th>Literal</th><th>Interpretation</th></tr></thead><tbody><tr><td><p><code>1234</code>, <code>−24</code>, <code>0</code>, <code>99999999999999</code></p></td><td><p>Integers (unlimited\n",
    "              size)</p></td></tr><tr><td><p><code>1.23</code>, <code>1.</code>, <code>3.14e-10</code>, <code>4E210</code>, <code>4.0e+210</code></p></td><td><p>Floating-point\n",
    "              numbers</p></td></tr><tr><td><p><code>0o177</code>, <code>0x9ff</code>, <code>0b101010</code></p></td><td><p>Octal, hex, and binary\n",
    "              literals in 3.X</p></td></tr><tr><td><p><code>3+4j</code>, <code>3.0+4.0j</code>, <code>3J</code></p></td><td><p>Complex number\n",
    "              literals</p></td></tr></tbody></table>"
   ]
  },
  {
   "cell_type": "markdown",
   "metadata": {},
   "source": [
    "<html>\n",
    "    <i> Source  : Learning Python, 5th Edition\n",
    "by Mark Lutz </i>"
   ]
  },
  {
   "cell_type": "code",
   "execution_count": null,
   "metadata": {},
   "outputs": [],
   "source": [
    "x = 4\n",
    "type(x)"
   ]
  },
  {
   "cell_type": "code",
   "execution_count": null,
   "metadata": {
    "scrolled": true,
    "tags": []
   },
   "outputs": [],
   "source": [
    "print(dir(x))\n"
   ]
  },
  {
   "cell_type": "code",
   "execution_count": null,
   "metadata": {},
   "outputs": [],
   "source": [
    "print(dir(x))"
   ]
  },
  {
   "cell_type": "code",
   "execution_count": null,
   "metadata": {},
   "outputs": [],
   "source": [
    "help(x.conjugate)"
   ]
  },
  {
   "cell_type": "markdown",
   "metadata": {},
   "source": [
    "<html>\n",
    "    <b> Mathematical Operators and Description </b>"
   ]
  },
  {
   "cell_type": "markdown",
   "metadata": {},
   "source": [
    "<table id=\"python_expression_operators_and_preceden\"><caption><span class=\"label\">Table 5-2. </span></caption><thead><tr><th>Operators</th><th>Description</th></tr></thead><tbody><tr><td><p><code>x + y</code></p> <p><code>x – y</code></p></td><td><p>Addition,\n",
    "              concatenation;</p> <p>Subtraction, set\n",
    "              difference</p></td></tr><tr><td><p><code>x * y</code></p> <p><code>x % y</code></p> <p><code>x / y</code>, <code>x // y</code></p></td><td><p>Multiplication,<a data-type=\"indexterm\" data-primary=\"modulus operator\" id=\"idm45598227378312\"></a><a data-type=\"indexterm\" data-primary=\"% (percent sign)\" data-secondary=\"numeric modulus operator\" id=\"idm45598227377304\"></a>\n",
    "              <a data-type=\"indexterm\" data-primary=\"mathematical operations\" data-secondary=\"expression operators\" id=\"idm45598227376264\"></a>repetition;</p> <p>Remainder, format;</p>\n",
    "              <p>Division: true and floor</p></td></tr><tr><td><p><code>−x</code>, <code>+x</code></p></td><td><p>Negation,\n",
    "              identity</p></td></tr><tr><td><p><code>˜x</code></p></td><td><p>Bitwise NOT\n",
    "              (inversion)</p></td></tr><tr><td><p><code>x ** y</code></p></td><td><p>Power\n",
    "              (exponentiation)</p></td></tr></tbody></table>"
   ]
  },
  {
   "cell_type": "markdown",
   "metadata": {},
   "source": [
    "<html>\n",
    "    <b> 1. Calculate the area of a rectangle with width and length of rectangle as 10 and 5 respectively and print the results. </b>\n",
    "    <p> Hint:</p>\n",
    "    <p> Area  of rectangle $= length \\times breadth$ </p>"
   ]
  },
  {
   "cell_type": "code",
   "execution_count": null,
   "metadata": {},
   "outputs": [],
   "source": [
    "# %load 1_1.py\n"
   ]
  },
  {
   "cell_type": "code",
   "execution_count": null,
   "metadata": {},
   "outputs": [],
   "source": [
    "print('Area of the rectangle is : ')\n",
    "print(area)"
   ]
  },
  {
   "cell_type": "markdown",
   "metadata": {},
   "source": [
    "<html>\n",
    "    <b>2.\n",
    "        Convert the given height into inches, meter and cm, and print the results with units.</b>\n",
    "    <p> Given</p><p> height = $4.5$ft </p>\n",
    "    <p> Hint :</p> \n",
    "    <p> 1ft = 12 inches</p>\n",
    "    <p> 1inch = 2.54 cm</p>\n",
    "    <p> 1 meter = 100 cm</p>\n",
    "</html>"
   ]
  },
  {
   "cell_type": "code",
   "execution_count": null,
   "metadata": {},
   "outputs": [],
   "source": [
    "# %load 1_2.py\n",
    "\n"
   ]
  }
 ],
 "metadata": {
  "kernelspec": {
   "display_name": "Python 3",
   "language": "python",
   "name": "python3"
  },
  "language_info": {
   "codemirror_mode": {
    "name": "ipython",
    "version": 3
   },
   "file_extension": ".py",
   "mimetype": "text/x-python",
   "name": "python",
   "nbconvert_exporter": "python",
   "pygments_lexer": "ipython3",
   "version": "3.7.7"
  },
  "toc": {
   "base_numbering": 1,
   "nav_menu": {},
   "number_sections": true,
   "sideBar": true,
   "skip_h1_title": false,
   "title_cell": "Table of Contents",
   "title_sidebar": "Contents",
   "toc_cell": false,
   "toc_position": {},
   "toc_section_display": true,
   "toc_window_display": false
  }
 },
 "nbformat": 4,
 "nbformat_minor": 2
}
