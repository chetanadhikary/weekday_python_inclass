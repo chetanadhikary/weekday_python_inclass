{
 "cells": [
  {
   "cell_type": "markdown",
   "metadata": {},
   "source": [
    "## Dictionary Data Type"
   ]
  },
  {
   "cell_type": "code",
   "execution_count": null,
   "metadata": {},
   "outputs": [],
   "source": [
    "## Dictionary can be created by using flower brackets \n",
    "dict_sq = {}\n",
    "## An instance Dictionary class can also be created using calling dict() \n",
    "dict_cb = dict()"
   ]
  },
  {
   "cell_type": "code",
   "execution_count": null,
   "metadata": {
    "tags": []
   },
   "outputs": [],
   "source": [
    "## The functions available in the directory of dictionary object are\n",
    "print(dir(dict_sq))"
   ]
  },
  {
   "cell_type": "code",
   "execution_count": null,
   "metadata": {},
   "outputs": [],
   "source": [
    "# Dictionary has a key value pair structure\n",
    "dict_sq = {1:1,2:4,3:9,4:16,5:25}\n",
    "dict_cb = {1:1,2:8,3:27,4:64,5:125}"
   ]
  },
  {
   "cell_type": "code",
   "execution_count": null,
   "metadata": {
    "tags": []
   },
   "outputs": [],
   "source": [
    "## Retrive values using keys\n",
    "print(f'dict_sq[4] gives \\n {dict_sq[4]}')\n",
    "print(f'dict_cb[4] gives \\n {dict_cb[4]}')"
   ]
  },
  {
   "cell_type": "code",
   "execution_count": null,
   "metadata": {},
   "outputs": [],
   "source": [
    "## Dictionary can have any datatype as values \n",
    "dict_num = {1:'num',2:'two',3:'three',4:'four',5:'five'}"
   ]
  },
  {
   "cell_type": "markdown",
   "metadata": {},
   "source": [
    "## Dictionary Object Functions"
   ]
  },
  {
   "cell_type": "markdown",
   "metadata": {},
   "source": [
    "### Clear"
   ]
  },
  {
   "cell_type": "code",
   "execution_count": null,
   "metadata": {
    "tags": []
   },
   "outputs": [],
   "source": [
    "\n",
    "print(help(dict_num.clear))"
   ]
  },
  {
   "cell_type": "code",
   "execution_count": null,
   "metadata": {
    "tags": []
   },
   "outputs": [],
   "source": [
    "dict_num.clear()\n",
    "print(dict_num)"
   ]
  },
  {
   "cell_type": "markdown",
   "metadata": {},
   "source": [
    "### Copy"
   ]
  },
  {
   "cell_type": "code",
   "execution_count": null,
   "metadata": {
    "tags": []
   },
   "outputs": [],
   "source": [
    "print(help(dict_cb.copy))"
   ]
  },
  {
   "cell_type": "code",
   "execution_count": null,
   "metadata": {
    "tags": []
   },
   "outputs": [],
   "source": [
    "# Since copy does a shallow copy , at the first level reference any modification in the copy of dictionary object  will not effect the source dictionary object\n",
    "dict_num = dict_cb.copy()\n",
    "dict_num[4]='four'\n",
    "print(f'dict_num:{dict_num}\\n dict_cb:{dict_cb}')"
   ]
  },
  {
   "cell_type": "markdown",
   "metadata": {},
   "source": [
    "### Keys"
   ]
  },
  {
   "cell_type": "code",
   "execution_count": null,
   "metadata": {
    "tags": []
   },
   "outputs": [],
   "source": [
    "print(help(dict_cb.keys))"
   ]
  },
  {
   "cell_type": "code",
   "execution_count": null,
   "metadata": {
    "tags": []
   },
   "outputs": [],
   "source": [
    "## Get the keys of the dictionary object\n",
    "## Using function keys , a list of keys is returned\n",
    "print(f'dict_cb.keys() -->{ dict_cb.keys()}')"
   ]
  },
  {
   "cell_type": "markdown",
   "metadata": {},
   "source": [
    "### Values"
   ]
  },
  {
   "cell_type": "code",
   "execution_count": null,
   "metadata": {
    "tags": []
   },
   "outputs": [],
   "source": [
    "print(help(dict_cb.values))"
   ]
  },
  {
   "cell_type": "code",
   "execution_count": null,
   "metadata": {},
   "outputs": [],
   "source": [
    "## values() function return the list of values belonging to that dictionary object\n",
    "dict_sq.values()"
   ]
  },
  {
   "cell_type": "markdown",
   "metadata": {},
   "source": [
    "## Items"
   ]
  },
  {
   "cell_type": "code",
   "execution_count": null,
   "metadata": {
    "tags": []
   },
   "outputs": [],
   "source": [
    "print(help(dict_cb.items))"
   ]
  },
  {
   "cell_type": "code",
   "execution_count": null,
   "metadata": {},
   "outputs": [],
   "source": [
    "## items() function returns the list of tuples of key-value pair belonging to the dictionary object\n",
    "dict_cb.items()"
   ]
  },
  {
   "cell_type": "markdown",
   "metadata": {},
   "source": [
    "## Update"
   ]
  },
  {
   "cell_type": "code",
   "execution_count": null,
   "metadata": {
    "tags": []
   },
   "outputs": [],
   "source": [
    "print(help(dict_num.update))"
   ]
  },
  {
   "cell_type": "code",
   "execution_count": null,
   "metadata": {},
   "outputs": [],
   "source": [
    "# Using update nethod, the values of keys can be updated by refering to another dictionary having the same keys\n",
    "# If same keys are not present then then a new key value pair is created\n",
    "# dict_num had keys as 1,2,3,4,5 which matched with the keys of dict_cb hence were updated \n",
    "dict_num.update(dict_cb)\n",
    "dict_num"
   ]
  },
  {
   "cell_type": "markdown",
   "metadata": {},
   "source": [
    "### Get"
   ]
  },
  {
   "cell_type": "code",
   "execution_count": null,
   "metadata": {
    "tags": []
   },
   "outputs": [],
   "source": [
    "print(help(dict.get))"
   ]
  },
  {
   "cell_type": "code",
   "execution_count": null,
   "metadata": {
    "tags": []
   },
   "outputs": [],
   "source": [
    "## get functions checks for the key if its present in the dictionary it returns a value, if not it returns a default value\n",
    "# dict_num does not have 6 as its key hence it returns 0 which is the second argument \n",
    "print(f'dict_num.get(6,0) returns \\n {dict_num.get(6,0)}')\n",
    "# dict_num has 5 as its key hence it returns the value of 5\n",
    "print(f'dict_num.get(5,0) returns \\n {dict_num.get(5,0)}')"
   ]
  },
  {
   "cell_type": "markdown",
   "metadata": {},
   "source": [
    "### pop"
   ]
  },
  {
   "cell_type": "code",
   "execution_count": null,
   "metadata": {
    "tags": []
   },
   "outputs": [],
   "source": [
    "## Items(key value pair) from the dictionary can be removed(poped) using pop keyword with the key mentioned\n",
    "## If key is not present then a KeyError will be generated\n",
    "print(dict_num.pop(5))\n",
    "print(dict_num)"
   ]
  },
  {
   "cell_type": "markdown",
   "metadata": {},
   "source": [
    "### Fromkeys"
   ]
  },
  {
   "cell_type": "code",
   "execution_count": null,
   "metadata": {
    "tags": []
   },
   "outputs": [],
   "source": [
    "print(help(dict_cb.fromkeys))\n"
   ]
  },
  {
   "cell_type": "code",
   "execution_count": null,
   "metadata": {
    "tags": []
   },
   "outputs": [],
   "source": [
    "# If a new dictionary object is intended to be created from the keys of another dictionary we can use from keys() function with a default value\n",
    "dict_num = dict.fromkeys(dict_cb.keys(),' ')\n",
    "print(f'dict_num: {dict_num}')"
   ]
  },
  {
   "cell_type": "markdown",
   "metadata": {},
   "source": [
    "## Exercises"
   ]
  },
  {
   "cell_type": "markdown",
   "metadata": {},
   "source": [
    "<html>\n",
    "<ol>\n",
    "<li> Write a program to create a database like structure for employees.</li>\n",
    "<ol>\n",
    "<li> Create a dictionary with fields 'Name','Job','Place of Work','Hobbies'</li>\n",
    "<li> Repeat step a and create 4 such dictionaries </li>\n",
    "<li> Include all these dictionaries into one more dictionary with key being the name and value being the dictionary where their information is stored</li>\n",
    "<li> Search for a name to give the details of a particular employee.</li>\n",
    "</ol>\n",
    "</ol>\n",
    "</html>"
   ]
  },
  {
   "cell_type": "code",
   "execution_count": null,
   "metadata": {},
   "outputs": [],
   "source": []
  }
 ],
 "metadata": {
  "kernelspec": {
   "display_name": "Python 3",
   "language": "python",
   "name": "python3"
  },
  "language_info": {
   "codemirror_mode": {
    "name": "ipython",
    "version": 3
   },
   "file_extension": ".py",
   "mimetype": "text/x-python",
   "name": "python",
   "nbconvert_exporter": "python",
   "pygments_lexer": "ipython3",
   "version": "3.7.7"
  },
  "toc": {
   "base_numbering": 1,
   "nav_menu": {},
   "number_sections": true,
   "sideBar": true,
   "skip_h1_title": false,
   "title_cell": "Table of Contents",
   "title_sidebar": "Contents",
   "toc_cell": false,
   "toc_position": {},
   "toc_section_display": true,
   "toc_window_display": false
  }
 },
 "nbformat": 4,
 "nbformat_minor": 2
}
