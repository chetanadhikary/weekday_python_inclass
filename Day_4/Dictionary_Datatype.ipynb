{
 "cells": [
  {
   "cell_type": "markdown",
   "metadata": {},
   "source": [
    "## Dictionary Data Type"
   ]
  },
  {
   "cell_type": "code",
   "execution_count": 1,
   "metadata": {},
   "outputs": [],
   "source": [
    "## Dictionary can be created by using flower brackets \n",
    "dict_sq = {}\n",
    "## An instance Dictionary class can also be created using calling dict() \n",
    "dict_cb = dict()"
   ]
  },
  {
   "cell_type": "code",
   "execution_count": 2,
   "metadata": {
    "tags": []
   },
   "outputs": [
    {
     "name": "stdout",
     "output_type": "stream",
     "text": [
      "['__class__', '__contains__', '__delattr__', '__delitem__', '__dir__', '__doc__', '__eq__', '__format__', '__ge__', '__getattribute__', '__getitem__', '__gt__', '__hash__', '__init__', '__init_subclass__', '__iter__', '__le__', '__len__', '__lt__', '__ne__', '__new__', '__reduce__', '__reduce_ex__', '__repr__', '__setattr__', '__setitem__', '__sizeof__', '__str__', '__subclasshook__', 'clear', 'copy', 'fromkeys', 'get', 'items', 'keys', 'pop', 'popitem', 'setdefault', 'update', 'values']\n"
     ]
    }
   ],
   "source": [
    "## The functions available in the directory of dictionary object are\n",
    "print(dir(dict_sq))"
   ]
  },
  {
   "cell_type": "code",
   "execution_count": 3,
   "metadata": {},
   "outputs": [],
   "source": [
    "# Dictionary has a key value pair structure\n",
    "dict_sq = {1:1,2:4,3:9,4:16,5:25}\n",
    "dict_cb = {1:1,2:8,3:27,4:64,5:125}"
   ]
  },
  {
   "cell_type": "code",
   "execution_count": 8,
   "metadata": {},
   "outputs": [
    {
     "data": {
      "text/plain": [
       "9"
      ]
     },
     "execution_count": 8,
     "metadata": {},
     "output_type": "execute_result"
    }
   ],
   "source": [
    "lst_sq = [1,4,9,16,25,36]\n",
    "lst_sq[2]"
   ]
  },
  {
   "cell_type": "code",
   "execution_count": 6,
   "metadata": {},
   "outputs": [
    {
     "data": {
      "text/plain": [
       "9"
      ]
     },
     "execution_count": 6,
     "metadata": {},
     "output_type": "execute_result"
    }
   ],
   "source": [
    "dict_sq[3]"
   ]
  },
  {
   "cell_type": "code",
   "execution_count": 4,
   "metadata": {
    "tags": []
   },
   "outputs": [
    {
     "name": "stdout",
     "output_type": "stream",
     "text": [
      "dict_sq[4] gives \n",
      " 16\n",
      "dict_cb[4] gives \n",
      " 64\n"
     ]
    }
   ],
   "source": [
    "## Retrive values using keys\n",
    "print(f'dict_sq[4] gives \\n {dict_sq[4]}')\n",
    "print(f'dict_cb[4] gives \\n {dict_cb[4]}')"
   ]
  },
  {
   "cell_type": "code",
   "execution_count": 9,
   "metadata": {},
   "outputs": [],
   "source": [
    "## Dictionary can have any datatype as values \n",
    "dict_num = {1:'num',2:'two',3:'three',4:'four',5:'five'}"
   ]
  },
  {
   "cell_type": "code",
   "execution_count": 11,
   "metadata": {},
   "outputs": [],
   "source": [
    "dict_num[6] = 'six'"
   ]
  },
  {
   "cell_type": "code",
   "execution_count": 12,
   "metadata": {},
   "outputs": [
    {
     "data": {
      "text/plain": [
       "{1: 'num', 2: 'two', 3: 'three', 4: 'four', 5: 'five', 6: 'six'}"
      ]
     },
     "execution_count": 12,
     "metadata": {},
     "output_type": "execute_result"
    }
   ],
   "source": [
    "dict_num"
   ]
  },
  {
   "cell_type": "markdown",
   "metadata": {},
   "source": [
    "## Dictionary Object Functions"
   ]
  },
  {
   "cell_type": "markdown",
   "metadata": {},
   "source": [
    "### Clear"
   ]
  },
  {
   "cell_type": "code",
   "execution_count": null,
   "metadata": {
    "tags": []
   },
   "outputs": [],
   "source": [
    "\n",
    "print(help(dict_num.clear))"
   ]
  },
  {
   "cell_type": "code",
   "execution_count": null,
   "metadata": {
    "tags": []
   },
   "outputs": [],
   "source": [
    "dict_num.clear()\n",
    "print(dict_num)"
   ]
  },
  {
   "cell_type": "markdown",
   "metadata": {},
   "source": [
    "### Copy"
   ]
  },
  {
   "cell_type": "code",
   "execution_count": 13,
   "metadata": {
    "tags": []
   },
   "outputs": [
    {
     "name": "stdout",
     "output_type": "stream",
     "text": [
      "Help on built-in function copy:\n",
      "\n",
      "copy(...) method of builtins.dict instance\n",
      "    D.copy() -> a shallow copy of D\n",
      "\n",
      "None\n"
     ]
    }
   ],
   "source": [
    "print(help(dict_cb.copy))"
   ]
  },
  {
   "cell_type": "code",
   "execution_count": 14,
   "metadata": {
    "tags": []
   },
   "outputs": [
    {
     "name": "stdout",
     "output_type": "stream",
     "text": [
      "dict_num:{1: 1, 2: 8, 3: 27, 4: 'four', 5: 125}\n",
      " dict_cb:{1: 1, 2: 8, 3: 27, 4: 64, 5: 125}\n"
     ]
    }
   ],
   "source": [
    "# Since copy does a shallow copy , at the first level reference any modification in the copy of dictionary object  will not effect the source dictionary object\n",
    "dict_num = dict_cb.copy()\n",
    "dict_num[4]='four'\n",
    "print(f'dict_num:{dict_num}\\n dict_cb:{dict_cb}')"
   ]
  },
  {
   "cell_type": "markdown",
   "metadata": {},
   "source": [
    "### Keys"
   ]
  },
  {
   "cell_type": "code",
   "execution_count": 20,
   "metadata": {},
   "outputs": [
    {
     "data": {
      "text/plain": [
       "{1: 1, 2: 8, 3: 27, 4: 'four', 5: 125, 'six': 36}"
      ]
     },
     "execution_count": 20,
     "metadata": {},
     "output_type": "execute_result"
    }
   ],
   "source": [
    "dict_num['six'] = 36\n",
    "dict_num"
   ]
  },
  {
   "cell_type": "code",
   "execution_count": 17,
   "metadata": {},
   "outputs": [
    {
     "data": {
      "text/plain": [
       "(dict_keys([1, 2, 3, 4, 5]),\n",
       " dict_values([1, 8, 27, 'four', 125]),\n",
       " dict_items([(1, 1), (2, 8), (3, 27), (4, 'four'), (5, 125)]))"
      ]
     },
     "execution_count": 17,
     "metadata": {},
     "output_type": "execute_result"
    }
   ],
   "source": [
    "dict_num.keys(),dict_num.values(),dict_num.items()"
   ]
  },
  {
   "cell_type": "code",
   "execution_count": null,
   "metadata": {
    "tags": []
   },
   "outputs": [],
   "source": [
    "print(help(dict_cb.keys))"
   ]
  },
  {
   "cell_type": "code",
   "execution_count": 18,
   "metadata": {
    "tags": []
   },
   "outputs": [
    {
     "name": "stdout",
     "output_type": "stream",
     "text": [
      "dict_cb.keys() -->dict_keys([1, 2, 3, 4, 5])\n"
     ]
    }
   ],
   "source": [
    "## Get the keys of the dictionary object\n",
    "## Using function keys , a list of keys is returned\n",
    "print(f'dict_cb.keys() -->{ dict_cb.keys()}')"
   ]
  },
  {
   "cell_type": "markdown",
   "metadata": {},
   "source": [
    "### Values"
   ]
  },
  {
   "cell_type": "code",
   "execution_count": null,
   "metadata": {
    "tags": []
   },
   "outputs": [],
   "source": [
    "print(help(dict_cb.values))"
   ]
  },
  {
   "cell_type": "code",
   "execution_count": null,
   "metadata": {},
   "outputs": [],
   "source": [
    "## values() function return the list of values belonging to that dictionary object\n",
    "dict_sq.values()"
   ]
  },
  {
   "cell_type": "markdown",
   "metadata": {},
   "source": [
    "## Items"
   ]
  },
  {
   "cell_type": "code",
   "execution_count": null,
   "metadata": {
    "tags": []
   },
   "outputs": [],
   "source": [
    "print(help(dict_cb.items))"
   ]
  },
  {
   "cell_type": "code",
   "execution_count": null,
   "metadata": {},
   "outputs": [],
   "source": [
    "## items() function returns the list of tuples of key-value pair belonging to the dictionary object\n",
    "dict_cb.items()"
   ]
  },
  {
   "cell_type": "markdown",
   "metadata": {},
   "source": [
    "## Update"
   ]
  },
  {
   "cell_type": "code",
   "execution_count": null,
   "metadata": {
    "tags": []
   },
   "outputs": [],
   "source": [
    "print(help(dict_num.update))"
   ]
  },
  {
   "cell_type": "code",
   "execution_count": null,
   "metadata": {},
   "outputs": [],
   "source": [
    "# Using update nethod, the values of keys can be updated by refering to another dictionary having the same keys\n",
    "# If same keys are not present then then a new key value pair is created\n",
    "# dict_num had keys as 1,2,3,4,5 which matched with the keys of dict_cb hence were updated \n",
    "dict_num.update(dict_cb)\n",
    "dict_num"
   ]
  },
  {
   "cell_type": "markdown",
   "metadata": {},
   "source": [
    "### Get"
   ]
  },
  {
   "cell_type": "code",
   "execution_count": 21,
   "metadata": {
    "tags": []
   },
   "outputs": [
    {
     "name": "stdout",
     "output_type": "stream",
     "text": [
      "Help on method_descriptor:\n",
      "\n",
      "get(self, key, default=None, /)\n",
      "    Return the value for key if key is in the dictionary, else default.\n",
      "\n",
      "None\n"
     ]
    }
   ],
   "source": [
    "print(help(dict.get))"
   ]
  },
  {
   "cell_type": "code",
   "execution_count": 24,
   "metadata": {},
   "outputs": [
    {
     "data": {
      "text/plain": [
       "{1: 1, 2: 8, 3: 27, 4: 'four', 5: 125, 'six': 36}"
      ]
     },
     "execution_count": 24,
     "metadata": {},
     "output_type": "execute_result"
    }
   ],
   "source": [
    "dict_num"
   ]
  },
  {
   "cell_type": "code",
   "execution_count": 27,
   "metadata": {},
   "outputs": [
    {
     "data": {
      "text/plain": [
       "(27, 0)"
      ]
     },
     "execution_count": 27,
     "metadata": {},
     "output_type": "execute_result"
    }
   ],
   "source": [
    "dict_num.get(3,0),dict_num.get(7,0)"
   ]
  },
  {
   "cell_type": "code",
   "execution_count": null,
   "metadata": {
    "tags": []
   },
   "outputs": [],
   "source": [
    "## get functions checks for the key if its present in the dictionary it returns a value, if not it returns a default value\n",
    "# dict_num does not have 6 as its key hence it returns 0 which is the second argument \n",
    "print(f'dict_num.get(6,0) returns \\n {dict_num.get(6,0)}')\n",
    "# dict_num has 5 as its key hence it returns the value of 5\n",
    "print(f'dict_num.get(5,0) returns \\n {dict_num.get(5,0)}')"
   ]
  },
  {
   "cell_type": "markdown",
   "metadata": {},
   "source": [
    "### pop"
   ]
  },
  {
   "cell_type": "code",
   "execution_count": null,
   "metadata": {
    "tags": []
   },
   "outputs": [],
   "source": [
    "## Items(key value pair) from the dictionary can be removed(poped) using pop keyword with the key mentioned\n",
    "## If key is not present then a KeyError will be generated\n",
    "print(dict_num.pop(5))\n",
    "print(dict_num)"
   ]
  },
  {
   "cell_type": "markdown",
   "metadata": {},
   "source": [
    "### Fromkeys"
   ]
  },
  {
   "cell_type": "code",
   "execution_count": null,
   "metadata": {
    "tags": []
   },
   "outputs": [],
   "source": [
    "print(help(dict_cb.fromkeys))\n"
   ]
  },
  {
   "cell_type": "code",
   "execution_count": null,
   "metadata": {
    "tags": []
   },
   "outputs": [],
   "source": [
    "# If a new dictionary object is intended to be created from the keys of another dictionary we can use from keys() function with a default value\n",
    "dict_num = dict.fromkeys(dict_cb.keys(),' ')\n",
    "print(f'dict_num: {dict_num}')"
   ]
  },
  {
   "cell_type": "code",
   "execution_count": 28,
   "metadata": {},
   "outputs": [],
   "source": [
    "lst_1 = ['hello',1,2,3,'Python']"
   ]
  },
  {
   "cell_type": "code",
   "execution_count": 29,
   "metadata": {},
   "outputs": [
    {
     "data": {
      "text/plain": [
       "['hello', 1, 2, 3, 'Python']"
      ]
     },
     "execution_count": 29,
     "metadata": {},
     "output_type": "execute_result"
    }
   ],
   "source": [
    "lst_1"
   ]
  },
  {
   "cell_type": "code",
   "execution_count": 31,
   "metadata": {},
   "outputs": [],
   "source": [
    "dict_1 = dict(enumerate(lst_1))"
   ]
  },
  {
   "cell_type": "code",
   "execution_count": 35,
   "metadata": {},
   "outputs": [
    {
     "data": {
      "text/plain": [
       "3"
      ]
     },
     "execution_count": 35,
     "metadata": {},
     "output_type": "execute_result"
    }
   ],
   "source": [
    "dict_1[3]"
   ]
  },
  {
   "cell_type": "markdown",
   "metadata": {},
   "source": [
    "## Exercises"
   ]
  },
  {
   "cell_type": "markdown",
   "metadata": {},
   "source": [
    "<html>\n",
    "<ol>\n",
    "<li> Write a program to create a database like structure for employees.</li>\n",
    "<ol>\n",
    "<li> Create a dictionary with fields 'Name','Job','Place of Work','Hobbies'</li>\n",
    "<li> Repeat step a and create 4 such dictionaries </li>\n",
    "<li> Include all these dictionaries into one more dictionary with key being the name and value being the dictionary where their information is stored</li>\n",
    "<li> Search for a name to give the details of a particular employee.</li>\n",
    "</ol>\n",
    "</ol>\n",
    "</html>"
   ]
  },
  {
   "cell_type": "code",
   "execution_count": 50,
   "metadata": {},
   "outputs": [],
   "source": [
    "dict_person1 = {'Name':'Chetan','Job':'Programmer','Place Of Work':'TCS','Hobbies':['Cricket','Chess']}\n",
    "dict_person2 = {'Name':'Harry','Job':'Wizard','Place Of Work':'Harvard','Hobbies':'Cricket'}\n",
    "dict_person3 = {'Name':'Ron','Job':'Chess Player','Place Of Work':'Wellington','Hobbies':'Cricket'}\n",
    "dict_person4 = {'Name':'Harmoine','Job':'Witch','Place Of Work':'Hogwarts','Hobbies':'Cricket'}\n"
   ]
  },
  {
   "cell_type": "code",
   "execution_count": 51,
   "metadata": {},
   "outputs": [
    {
     "data": {
      "text/plain": [
       "{'Name': 'Harry',\n",
       " 'Job': 'Wizard',\n",
       " 'Place Of Work': 'Harvard',\n",
       " 'Hobbies': 'Cricket'}"
      ]
     },
     "execution_count": 51,
     "metadata": {},
     "output_type": "execute_result"
    }
   ],
   "source": [
    "dict_person2 "
   ]
  },
  {
   "cell_type": "code",
   "execution_count": 52,
   "metadata": {},
   "outputs": [],
   "source": [
    "dict_people = dict()"
   ]
  },
  {
   "cell_type": "code",
   "execution_count": 53,
   "metadata": {},
   "outputs": [],
   "source": [
    "dict_people= {'Chetan':dict_person1,'Harry':dict_person2,'Ron':dict_person3,'Harmoine':dict_person4}"
   ]
  },
  {
   "cell_type": "code",
   "execution_count": 54,
   "metadata": {},
   "outputs": [
    {
     "data": {
      "text/plain": [
       "'Hogwarts'"
      ]
     },
     "execution_count": 54,
     "metadata": {},
     "output_type": "execute_result"
    }
   ],
   "source": [
    "dict_people['Harmoine']['Place Of Work']"
   ]
  },
  {
   "cell_type": "code",
   "execution_count": 55,
   "metadata": {},
   "outputs": [],
   "source": [
    "lst_people = [dict_person1,dict_person2,dict_person3,dict_person4]"
   ]
  },
  {
   "cell_type": "code",
   "execution_count": 56,
   "metadata": {},
   "outputs": [
    {
     "data": {
      "text/plain": [
       "[{'Name': 'Chetan',\n",
       "  'Job': 'Programmer',\n",
       "  'Place Of Work': 'TCS',\n",
       "  'Hobbies': ['Cricket', 'Chess']},\n",
       " {'Name': 'Harry',\n",
       "  'Job': 'Wizard',\n",
       "  'Place Of Work': 'Harvard',\n",
       "  'Hobbies': 'Cricket'},\n",
       " {'Name': 'Ron',\n",
       "  'Job': 'Chess Player',\n",
       "  'Place Of Work': 'Wellington',\n",
       "  'Hobbies': 'Cricket'},\n",
       " {'Name': 'Harmoine',\n",
       "  'Job': 'Witch',\n",
       "  'Place Of Work': 'Hogwarts',\n",
       "  'Hobbies': 'Cricket'}]"
      ]
     },
     "execution_count": 56,
     "metadata": {},
     "output_type": "execute_result"
    }
   ],
   "source": [
    "lst_people"
   ]
  },
  {
   "cell_type": "code",
   "execution_count": 66,
   "metadata": {},
   "outputs": [],
   "source": [
    "sentence = 'AMC Engineering College located at Bangalore is one of the top Engineering College'"
   ]
  },
  {
   "cell_type": "code",
   "execution_count": 67,
   "metadata": {},
   "outputs": [],
   "source": [
    "lst_words = sentence.split()"
   ]
  },
  {
   "cell_type": "code",
   "execution_count": 68,
   "metadata": {},
   "outputs": [],
   "source": [
    "dict_count = dict()"
   ]
  },
  {
   "cell_type": "code",
   "execution_count": 69,
   "metadata": {},
   "outputs": [],
   "source": [
    "for word in lst_words:\n",
    "    dict_count[word] = dict_count.get(word,0) + 1"
   ]
  },
  {
   "cell_type": "code",
   "execution_count": 70,
   "metadata": {},
   "outputs": [
    {
     "data": {
      "text/plain": [
       "{'AMC': 1,\n",
       " 'Engineering': 2,\n",
       " 'College': 2,\n",
       " 'located': 1,\n",
       " 'at': 1,\n",
       " 'Bangalore': 1,\n",
       " 'is': 1,\n",
       " 'one': 1,\n",
       " 'of': 1,\n",
       " 'the': 1,\n",
       " 'top': 1}"
      ]
     },
     "execution_count": 70,
     "metadata": {},
     "output_type": "execute_result"
    }
   ],
   "source": [
    "dict_count"
   ]
  }
 ],
 "metadata": {
  "kernelspec": {
   "display_name": "Python 3",
   "language": "python",
   "name": "python3"
  },
  "language_info": {
   "codemirror_mode": {
    "name": "ipython",
    "version": 3
   },
   "file_extension": ".py",
   "mimetype": "text/x-python",
   "name": "python",
   "nbconvert_exporter": "python",
   "pygments_lexer": "ipython3",
   "version": "3.7.7"
  },
  "toc": {
   "base_numbering": 1,
   "nav_menu": {},
   "number_sections": true,
   "sideBar": true,
   "skip_h1_title": false,
   "title_cell": "Table of Contents",
   "title_sidebar": "Contents",
   "toc_cell": false,
   "toc_position": {},
   "toc_section_display": true,
   "toc_window_display": false
  }
 },
 "nbformat": 4,
 "nbformat_minor": 2
}
